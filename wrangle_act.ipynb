{
 "cells": [
  {
   "cell_type": "markdown",
   "metadata": {},
   "source": [
    "# Data Wrangling Project\n",
    "\n",
    "## Table of Contents\n",
    "\n",
    "* <a href=\"#introduction\">1. Introduction</a>\n",
    "* <a href=\"#data_wrangling\">2. Data Wrangling</a>\n",
    "    - <a href=\"#data_wrangling_gather\">2.1 Gathering</a>\n",
    "    - <a href=\"#data_wrangling_assess\">2.2 Assessment</a>\n",
    "    - <a href=\"#data_wrangling_clean\">2.3 Cleaning</a>\n",
    "* <a href=\"#store_clean_data\">3. Storing Cleaned Data</a>\n",
    "* <a href=\"#visualizing_data\">4. Visualizing Data</a>"
   ]
  },
  {
   "cell_type": "markdown",
   "metadata": {},
   "source": [
    "<a id=\"introduction\"></a>\n",
    "###  1.0 Introduction\n",
    "\n",
    "The goal of this project is to wrangle **@WeRateDogs** Twitter Data to aid trustworthy analysis on the twitter data. \n",
    "\n",
    "In this project, all the steps *(Gather,Assess,Clean)*  in the Data Wrangling process are handled. Initially, We have been provided with twitter archive data. This data needs to be asssessed further and need to gather aditional data if needed. All these data need to be cleaned, so that meaningful insights can be derived from the cleaned data."
   ]
  },
  {
   "cell_type": "markdown",
   "metadata": {},
   "source": [
    "<a id=\"data_wrangling\"></a>\n",
    "### 2.0 Data Wrangling"
   ]
  },
  {
   "cell_type": "markdown",
   "metadata": {},
   "source": [
    "Data Wrangling is one of the key steps in Data Analysis, as it takes 80% or more part of Data Analyst. Real world data is often dirty and unstructured which make data analysis harder. Fortunately, latest software advancements like Python, and libraries  like Pandas, Numpy, etc., makes data analyst's life easier for making the data wrangling process faster, smoother. \n",
    "\n",
    "At a high level, the data wrangling comes in 3 different steps, as mentioned below:\n",
    "\n",
    "* Gather\n",
    "* Assess\n",
    "* Clean\n",
    "\n",
    "Lets dive deeper into each of the steps for the **@WeRateDogs** data to get meaningful insights."
   ]
  },
  {
   "cell_type": "markdown",
   "metadata": {},
   "source": [
    "<a id='data_wrangling_gather'></a>\n",
    "### 2.1 Gathering"
   ]
  },
  {
   "cell_type": "markdown",
   "metadata": {},
   "source": [
    "In this project, initially we have provided with Twitter Archived Data (*twitter-archive-enhanced.csv*). This archived data contains only tweets which has ratings."
   ]
  },
  {
   "cell_type": "code",
   "execution_count": 1,
   "metadata": {},
   "outputs": [],
   "source": [
    "''' Initial all libraries  '''\n",
    "import numpy as np\n",
    "import pandas as pd\n",
    "import matplotlib.pyplot as plt\n",
    "import json\n",
    "import tweepy\n",
    "import os as os\n",
    "import requests\n",
    "import re\n",
    "from pandas.io.json import json_normalize\n",
    "import sqlite3\n",
    "import seaborn as sns\n",
    "\n",
    "%matplotlib inline"
   ]
  },
  {
   "cell_type": "markdown",
   "metadata": {},
   "source": [
    "#### Parse the given twitter archive enhanced data"
   ]
  },
  {
   "cell_type": "code",
   "execution_count": 2,
   "metadata": {},
   "outputs": [
    {
     "data": {
      "text/html": [
       "<div>\n",
       "<style scoped>\n",
       "    .dataframe tbody tr th:only-of-type {\n",
       "        vertical-align: middle;\n",
       "    }\n",
       "\n",
       "    .dataframe tbody tr th {\n",
       "        vertical-align: top;\n",
       "    }\n",
       "\n",
       "    .dataframe thead th {\n",
       "        text-align: right;\n",
       "    }\n",
       "</style>\n",
       "<table border=\"1\" class=\"dataframe\">\n",
       "  <thead>\n",
       "    <tr style=\"text-align: right;\">\n",
       "      <th></th>\n",
       "      <th>tweet_id</th>\n",
       "      <th>in_reply_to_status_id</th>\n",
       "      <th>in_reply_to_user_id</th>\n",
       "      <th>timestamp</th>\n",
       "      <th>source</th>\n",
       "      <th>text</th>\n",
       "      <th>retweeted_status_id</th>\n",
       "      <th>retweeted_status_user_id</th>\n",
       "      <th>retweeted_status_timestamp</th>\n",
       "      <th>expanded_urls</th>\n",
       "      <th>rating_numerator</th>\n",
       "      <th>rating_denominator</th>\n",
       "      <th>name</th>\n",
       "      <th>doggo</th>\n",
       "      <th>floofer</th>\n",
       "      <th>pupper</th>\n",
       "      <th>puppo</th>\n",
       "    </tr>\n",
       "  </thead>\n",
       "  <tbody>\n",
       "    <tr>\n",
       "      <th>0</th>\n",
       "      <td>892420643555336193</td>\n",
       "      <td>NaN</td>\n",
       "      <td>NaN</td>\n",
       "      <td>2017-08-01 16:23:56 +0000</td>\n",
       "      <td>&lt;a href=\"http://twitter.com/download/iphone\" r...</td>\n",
       "      <td>This is Phineas. He's a mystical boy. Only eve...</td>\n",
       "      <td>NaN</td>\n",
       "      <td>NaN</td>\n",
       "      <td>NaN</td>\n",
       "      <td>https://twitter.com/dog_rates/status/892420643...</td>\n",
       "      <td>13</td>\n",
       "      <td>10</td>\n",
       "      <td>Phineas</td>\n",
       "      <td>None</td>\n",
       "      <td>None</td>\n",
       "      <td>None</td>\n",
       "      <td>None</td>\n",
       "    </tr>\n",
       "    <tr>\n",
       "      <th>1</th>\n",
       "      <td>892177421306343426</td>\n",
       "      <td>NaN</td>\n",
       "      <td>NaN</td>\n",
       "      <td>2017-08-01 00:17:27 +0000</td>\n",
       "      <td>&lt;a href=\"http://twitter.com/download/iphone\" r...</td>\n",
       "      <td>This is Tilly. She's just checking pup on you....</td>\n",
       "      <td>NaN</td>\n",
       "      <td>NaN</td>\n",
       "      <td>NaN</td>\n",
       "      <td>https://twitter.com/dog_rates/status/892177421...</td>\n",
       "      <td>13</td>\n",
       "      <td>10</td>\n",
       "      <td>Tilly</td>\n",
       "      <td>None</td>\n",
       "      <td>None</td>\n",
       "      <td>None</td>\n",
       "      <td>None</td>\n",
       "    </tr>\n",
       "    <tr>\n",
       "      <th>2</th>\n",
       "      <td>891815181378084864</td>\n",
       "      <td>NaN</td>\n",
       "      <td>NaN</td>\n",
       "      <td>2017-07-31 00:18:03 +0000</td>\n",
       "      <td>&lt;a href=\"http://twitter.com/download/iphone\" r...</td>\n",
       "      <td>This is Archie. He is a rare Norwegian Pouncin...</td>\n",
       "      <td>NaN</td>\n",
       "      <td>NaN</td>\n",
       "      <td>NaN</td>\n",
       "      <td>https://twitter.com/dog_rates/status/891815181...</td>\n",
       "      <td>12</td>\n",
       "      <td>10</td>\n",
       "      <td>Archie</td>\n",
       "      <td>None</td>\n",
       "      <td>None</td>\n",
       "      <td>None</td>\n",
       "      <td>None</td>\n",
       "    </tr>\n",
       "  </tbody>\n",
       "</table>\n",
       "</div>"
      ],
      "text/plain": [
       "             tweet_id  in_reply_to_status_id  in_reply_to_user_id  \\\n",
       "0  892420643555336193                    NaN                  NaN   \n",
       "1  892177421306343426                    NaN                  NaN   \n",
       "2  891815181378084864                    NaN                  NaN   \n",
       "\n",
       "                   timestamp  \\\n",
       "0  2017-08-01 16:23:56 +0000   \n",
       "1  2017-08-01 00:17:27 +0000   \n",
       "2  2017-07-31 00:18:03 +0000   \n",
       "\n",
       "                                              source  \\\n",
       "0  <a href=\"http://twitter.com/download/iphone\" r...   \n",
       "1  <a href=\"http://twitter.com/download/iphone\" r...   \n",
       "2  <a href=\"http://twitter.com/download/iphone\" r...   \n",
       "\n",
       "                                                text  retweeted_status_id  \\\n",
       "0  This is Phineas. He's a mystical boy. Only eve...                  NaN   \n",
       "1  This is Tilly. She's just checking pup on you....                  NaN   \n",
       "2  This is Archie. He is a rare Norwegian Pouncin...                  NaN   \n",
       "\n",
       "   retweeted_status_user_id retweeted_status_timestamp  \\\n",
       "0                       NaN                        NaN   \n",
       "1                       NaN                        NaN   \n",
       "2                       NaN                        NaN   \n",
       "\n",
       "                                       expanded_urls  rating_numerator  \\\n",
       "0  https://twitter.com/dog_rates/status/892420643...                13   \n",
       "1  https://twitter.com/dog_rates/status/892177421...                13   \n",
       "2  https://twitter.com/dog_rates/status/891815181...                12   \n",
       "\n",
       "   rating_denominator     name doggo floofer pupper puppo  \n",
       "0                  10  Phineas  None    None   None  None  \n",
       "1                  10    Tilly  None    None   None  None  \n",
       "2                  10   Archie  None    None   None  None  "
      ]
     },
     "execution_count": 2,
     "metadata": {},
     "output_type": "execute_result"
    }
   ],
   "source": [
    "''' Read the Twitter Archived Data '''\n",
    "df_tweet_archive = pd.read_csv('./data/provided_data/twitter-archive-enhanced.csv')\n",
    "df_tweet_archive.head(3)"
   ]
  },
  {
   "cell_type": "markdown",
   "metadata": {},
   "source": [
    "Twitter Archive Enhanced Field Details:\n",
    "\n",
    "* `tweet_id`: ID of each tweet\n",
    "* `in_reply_to_status_id`: If the represented Tweet is a reply, this field will contain the integer representation of the original Tweet’s ID\n",
    "* `in_reply_to_user_id`:If the represented Tweet is a reply, this field will contain the integer representation of the original Tweet’s author ID. This will not necessarily always be the user directly mentioned in the Tweet.\n",
    "* `timestamp`: Tweet Created Time\n",
    "* `source`: Source of the Tweet. i.e IPhone, Vine, etc.,\n",
    "* `text`: Original Text of the Tweet\n",
    "* `retweeted_status_id`: Retweet Status ID\n",
    "* `retweeted_status_user_id` : Retweet User ID\n",
    "* `retweeted_status_timestamp`: Retweet Timestamp\n",
    "* `expanded_urls`: Tweet URL\n",
    "* `rating_numerator`: Dog Rating Numerator.\n",
    "* `rating_denominator`: Dog Rating Denominator. Its always 10.\n",
    "* `name`: Name of the dog\n",
    "* `doggo`: Stage of the dog\n",
    "* `floofer`: Stage of the dog\n",
    "* `pupper`: Stage of the dog\n",
    "* `puppo`: Stage of the dog"
   ]
  },
  {
   "cell_type": "markdown",
   "metadata": {},
   "source": [
    "#### Get additional details on the tweets via Twitter API Call\n",
    "\n",
    "The above data missing some key information like retweet count, favorite count for each of the tweet. These additional data can be gathered using Twitter API. In this project, 'tweepy' library is used to get the tweet details.\n",
    "\n",
    "Even though, we can get each individual tweet status by using `get_status` API call, it requires 2356 API calls. It seems, we can get tweets in bulk using `statuses_lookup` API call. `statuses_lookup` API call can upto 100 tweets. Also, we have to make sure the tweet_mode is set to  `extended`, so that tweets are not truncated."
   ]
  },
  {
   "cell_type": "code",
   "execution_count": 3,
   "metadata": {},
   "outputs": [],
   "source": [
    "''' This function initialize Twitter API Secret needed for further API calls'''\n",
    "def initialize_twitter_secrets():\n",
    "    with open('twitter_secrets.txt', 'r') as content_file:\n",
    "        twitter_secrets = json.loads( content_file.read())\n",
    "        return twitter_secrets"
   ]
  },
  {
   "cell_type": "code",
   "execution_count": 4,
   "metadata": {},
   "outputs": [],
   "source": [
    "''' This function authenticates the application with Twitter and returns API object which can be used for further API Calls'''\n",
    "def get_twitter_api_handler(twitter_secrets={}):\n",
    "    auth = tweepy.OAuthHandler(twitter_secrets['consumer_api_key'], twitter_secrets['consumer_api_secret'])\n",
    "    auth.set_access_token(twitter_secrets['access_token'],twitter_secrets['access_token_secret'])\n",
    "    api = tweepy.API(auth, wait_on_rate_limit=True, wait_on_rate_limit_notify=True)\n",
    "    return api"
   ]
  },
  {
   "cell_type": "code",
   "execution_count": 5,
   "metadata": {},
   "outputs": [],
   "source": [
    "''' The below function get all tweet details for given list and store them in a file in JSON format '''\n",
    "def get_tweet_details_for_given_list(tweet_list=None, tweet_api = None, split_size=100, file_name=None):\n",
    "    try:\n",
    "        # Check for Max Split Size\n",
    "        if split_size > 100:\n",
    "            print('Twitter API can handle only 100 tweets per API at the Max. So switching split size to 100')\n",
    "            split_size = 100\n",
    "\n",
    "        # Check for Incorrect Split Size\n",
    "        if split_size <= 0:\n",
    "            print('Incorrect split size')\n",
    "            return -1\n",
    "\n",
    "        #Check if tweet list is empty\n",
    "        if tweet_list is None or len(tweet_list) <= 0:\n",
    "            print('tweet list is empty')\n",
    "            return -1\n",
    "        else:\n",
    "            ''' Below Code splits the whole tweet list supplied into smaller chunks and get their details'''\n",
    "            max_loop_index = (len(tweet_list)/split_size) + 1\n",
    "            tweets_json_list = []\n",
    "            for i in np.arange(max_loop_index):\n",
    "                start_index = (int) (i * split_size)\n",
    "                end_index = min( (int) ((i+1) * split_size), len(tweet_list))\n",
    "\n",
    "                '''Get the small chunk tweet id list '''\n",
    "                sub_array =  tweet_list[start_index:end_index]\n",
    "                \n",
    "                '''Check if the small chunk has tweet ids'''\n",
    "                if len(sub_array) > 0:\n",
    "                    \n",
    "                    ''' API Call made to get the data and tweet_mode is set to Extended mode for getting the full tweet '''\n",
    "                    tweets = tweet_api.statuses_lookup(id_=sub_array, tweet_mode='extended')\n",
    "                    \n",
    "                    '''Store all tweets in the list'''\n",
    "                    for tweet in tweets:                    \n",
    "                        tweets_json_list.append(tweet._json)\n",
    "\n",
    "            full_file_name = os.path.join(\"./data\", \"collected_data\", file_name)\n",
    "            with open(full_file_name,'w+b') as tf:\n",
    "                for tweet in tweets_json_list:\n",
    "                    '''Add EOL(\\n) for every json stored'''\n",
    "                    jsonstr =  (json.dumps(tweet, separators=(',', ': ')) + '\\n').encode('UTF-8')\n",
    "                    tf.write(jsonstr)\n",
    "        return 0\n",
    "    except:\n",
    "        print('Error in getting tweets via API')\n",
    "        return -1"
   ]
  },
  {
   "cell_type": "code",
   "execution_count": 6,
   "metadata": {},
   "outputs": [
    {
     "data": {
      "text/plain": [
       "0"
      ]
     },
     "execution_count": 6,
     "metadata": {},
     "output_type": "execute_result"
    }
   ],
   "source": [
    "#Initialize Secrets\n",
    "twitter_secrets = initialize_twitter_secrets()\n",
    "#Get Twitter API Handler\n",
    "twitter_api = get_twitter_api_handler(twitter_secrets)\n",
    "#Get all tweets and store them in a file\n",
    "get_tweet_details_for_given_list(tweet_list=df_tweet_archive.tweet_id.values.tolist(), \\\n",
    "                                 file_name='tweet_json.txt', split_size=80, tweet_api=twitter_api)"
   ]
  },
  {
   "cell_type": "code",
   "execution_count": 7,
   "metadata": {},
   "outputs": [
    {
     "data": {
      "text/plain": [
       "b'{\"created_at\": \"Sat Jul 15 23:25:31 +0000 2017\",\"id\": 886366144734445568,\"id_str\": \"886366144734445568\",\"full_text\": \"This is Roscoe. Another pupper fallen victim to spontaneous tongue ejections. Get the BlepiPen immediate. 12/10 deep breaths Roscoe https://t.co/RGE08MIJox\",\"truncated\": false,\"display_text_range\": [0,131],\"entities\": {\"hashtags\": [],\"symbols\": [],\"user_mentions\": [],\"urls\": [],\"media\": [{\"id\": 886366138128449536,\"id_str\": \"886366138128449536\",\"indices\": [132,155],\"media_url\": \"http://pbs.twimg.com/media/DE0BTnQUwAApKEH.jpg\",\"media_url_https\": \"https://pbs.twimg.com/media/DE0BTnQUwAApKEH.jpg\",\"url\": \"https://t.co/RGE08MIJox\",\"display_url\": \"pic.twitter.com/RGE08MIJox\",\"expanded_url\": \"https://twitter.com/dog_rates/status/886366144734445568/photo/1\",\"type\": \"photo\",\"sizes\": {\"thumb\": {\"w\": 150,\"h\": 150,\"resize\": \"crop\"},\"small\": {\"w\": 510,\"h\": 680,\"resize\": \"fit\"},\"medium\": {\"w\": 901,\"h\": 1200,\"resize\": \"fit\"},\"large\": {\"w\": 1201,\"h\": 1600,\"resize\": \"fit\"}}}]},\"extended_entities\": {\"media\": [{\"id\": 886366138128449536,\"id_str\": \"886366138128449536\",\"indices\": [132,155],\"media_url\": \"http://pbs.twimg.com/media/DE0BTnQUwAApKEH.jpg\",\"media_url_https\": \"https://pbs.twimg.com/media/DE0BTnQUwAApKEH.jpg\",\"url\": \"https://t.co/RGE08MIJox\",\"display_url\": \"pic.twitter.com/RGE08MIJox\",\"expanded_url\": \"https://twitter.com/dog_rates/status/886366144734445568/photo/1\",\"type\": \"photo\",\"sizes\": {\"thumb\": {\"w\": 150,\"h\": 150,\"resize\": \"crop\"},\"small\": {\"w\": 510,\"h\": 680,\"resize\": \"fit\"},\"medium\": {\"w\": 901,\"h\": 1200,\"resize\": \"fit\"},\"large\": {\"w\": 1201,\"h\": 1600,\"resize\": \"fit\"}}},{\"id\": 886366138124218369,\"id_str\": \"886366138124218369\",\"indices\": [132,155],\"media_url\": \"http://pbs.twimg.com/media/DE0BTnPUMAEVdh5.jpg\",\"media_url_https\": \"https://pbs.twimg.com/media/DE0BTnPUMAEVdh5.jpg\",\"url\": \"https://t.co/RGE08MIJox\",\"display_url\": \"pic.twitter.com/RGE08MIJox\",\"expanded_url\": \"https://twitter.com/dog_rates/status/886366144734445568/photo/1\",\"type\": \"photo\",\"sizes\": {\"thumb\": {\"w\": 150,\"h\": 150,\"resize\": \"crop\"},\"large\": {\"w\": 925,\"h\": 1165,\"resize\": \"fit\"},\"medium\": {\"w\": 925,\"h\": 1165,\"resize\": \"fit\"},\"small\": {\"w\": 540,\"h\": 680,\"resize\": \"fit\"}}}]},\"source\": \"<a href=\\\\\"http://twitter.com/download/iphone\\\\\" rel=\\\\\"nofollow\\\\\">Twitter for iPhone</a>\",\"in_reply_to_status_id\": null,\"in_reply_to_status_id_str\": null,\"in_reply_to_user_id\": null,\"in_reply_to_user_id_str\": null,\"in_reply_to_screen_name\": null,\"user\": {\"id\": 4196983835,\"id_str\": \"4196983835\",\"name\": \"WeRateDogs\\\\u2122\",\"screen_name\": \"dog_rates\",\"location\": \"\\\\u21e9 merch \\\\u21e9         DM YOUR DOGS\",\"description\": \"Your Only Source For Professional Dog Ratings \\\\u2800 \\\\u2800IG, FB, Snapchat \\\\u21e8 WeRateDogs \\\\u2800\\\\u2800\\\\u2800\\\\u2800\\\\u2800\\\\u2800\\\\u2800\\\\u2800\\\\u2800\\\\u2800\\\\u2800\\\\u2800 Business: dogratingtwitter@gmail.com\",\"url\": \"https://t.co/x186Z0Oljv\",\"entities\": {\"url\": {\"urls\": [{\"url\": \"https://t.co/x186Z0Oljv\",\"expanded_url\": \"https://weratedogs.com/\",\"display_url\": \"weratedogs.com\",\"indices\": [0,23]}]},\"description\": {\"urls\": []}},\"protected\": false,\"followers_count\": 7418285,\"friends_count\": 10,\"listed_count\": 5511,\"created_at\": \"Sun Nov 15 21:41:29 +0000 2015\",\"favourites_count\": 139475,\"utc_offset\": null,\"time_zone\": null,\"geo_enabled\": true,\"verified\": true,\"statuses_count\": 9147,\"lang\": \"en\",\"contributors_enabled\": false,\"is_translator\": false,\"is_translation_enabled\": false,\"profile_background_color\": \"000000\",\"profile_background_image_url\": \"http://abs.twimg.com/images/themes/theme1/bg.png\",\"profile_background_image_url_https\": \"https://abs.twimg.com/images/themes/theme1/bg.png\",\"profile_background_tile\": false,\"profile_image_url\": \"http://pbs.twimg.com/profile_images/1058483813683224576/ELy1FCI5_normal.jpg\",\"profile_image_url_https\": \"https://pbs.twimg.com/profile_images/1058483813683224576/ELy1FCI5_normal.jpg\",\"profile_banner_url\": \"https://pbs.twimg.com/profile_banners/4196983835/1541200316\",\"profile_link_color\": \"F5ABB5\",\"profile_sidebar_border_color\": \"000000\",\"profile_sidebar_fill_color\": \"000000\",\"profile_text_color\": \"000000\",\"profile_use_background_image\": false,\"has_extended_profile\": false,\"default_profile\": false,\"default_profile_image\": false,\"following\": false,\"follow_request_sent\": false,\"notifications\": false,\"translator_type\": \"none\"},\"geo\": null,\"coordinates\": null,\"place\": null,\"contributors\": null,\"is_quote_status\": false,\"retweet_count\": 3152,\"favorite_count\": 20897,\"favorited\": false,\"retweeted\": false,\"possibly_sensitive\": false,\"lang\": \"en\"}\\n'"
      ]
     },
     "execution_count": 7,
     "metadata": {},
     "output_type": "execute_result"
    }
   ],
   "source": [
    "''' Check if the file has all data in JSON - one tweet per line'''\n",
    "open('./data/collected_data/tweet_json.txt', 'r').readline().encode('UTF-8')"
   ]
  },
  {
   "cell_type": "markdown",
   "metadata": {},
   "source": [
    "Twitter Object Field Details.\n",
    "\n",
    "* Details of the full Tweet Object can be found [here](https://developer.twitter.com/en/docs/tweets/data-dictionary/overview/tweet-object)\n"
   ]
  },
  {
   "cell_type": "code",
   "execution_count": 8,
   "metadata": {},
   "outputs": [
    {
     "data": {
      "text/html": [
       "<div>\n",
       "<style scoped>\n",
       "    .dataframe tbody tr th:only-of-type {\n",
       "        vertical-align: middle;\n",
       "    }\n",
       "\n",
       "    .dataframe tbody tr th {\n",
       "        vertical-align: top;\n",
       "    }\n",
       "\n",
       "    .dataframe thead th {\n",
       "        text-align: right;\n",
       "    }\n",
       "</style>\n",
       "<table border=\"1\" class=\"dataframe\">\n",
       "  <thead>\n",
       "    <tr style=\"text-align: right;\">\n",
       "      <th></th>\n",
       "      <th>contributors</th>\n",
       "      <th>coordinates</th>\n",
       "      <th>created_at</th>\n",
       "      <th>display_text_range</th>\n",
       "      <th>entities</th>\n",
       "      <th>extended_entities</th>\n",
       "      <th>favorite_count</th>\n",
       "      <th>favorited</th>\n",
       "      <th>full_text</th>\n",
       "      <th>geo</th>\n",
       "      <th>...</th>\n",
       "      <th>quoted_status</th>\n",
       "      <th>quoted_status_id</th>\n",
       "      <th>quoted_status_id_str</th>\n",
       "      <th>quoted_status_permalink</th>\n",
       "      <th>retweet_count</th>\n",
       "      <th>retweeted</th>\n",
       "      <th>retweeted_status</th>\n",
       "      <th>source</th>\n",
       "      <th>truncated</th>\n",
       "      <th>user</th>\n",
       "    </tr>\n",
       "  </thead>\n",
       "  <tbody>\n",
       "    <tr>\n",
       "      <th>0</th>\n",
       "      <td>NaN</td>\n",
       "      <td>NaN</td>\n",
       "      <td>2017-07-15 23:25:31</td>\n",
       "      <td>[0, 131]</td>\n",
       "      <td>{'hashtags': [], 'symbols': [], 'user_mentions...</td>\n",
       "      <td>{'media': [{'id': 886366138128449536, 'id_str'...</td>\n",
       "      <td>20897</td>\n",
       "      <td>False</td>\n",
       "      <td>This is Roscoe. Another pupper fallen victim t...</td>\n",
       "      <td>NaN</td>\n",
       "      <td>...</td>\n",
       "      <td>NaN</td>\n",
       "      <td>NaN</td>\n",
       "      <td>NaN</td>\n",
       "      <td>NaN</td>\n",
       "      <td>3152</td>\n",
       "      <td>False</td>\n",
       "      <td>NaN</td>\n",
       "      <td>&lt;a href=\"http://twitter.com/download/iphone\" r...</td>\n",
       "      <td>False</td>\n",
       "      <td>{'id': 4196983835, 'id_str': '4196983835', 'na...</td>\n",
       "    </tr>\n",
       "    <tr>\n",
       "      <th>1</th>\n",
       "      <td>NaN</td>\n",
       "      <td>NaN</td>\n",
       "      <td>2017-06-21 19:36:23</td>\n",
       "      <td>[0, 122]</td>\n",
       "      <td>{'hashtags': [], 'symbols': [], 'user_mentions...</td>\n",
       "      <td>{'media': [{'id': 876850756556607488, 'id_str'...</td>\n",
       "      <td>0</td>\n",
       "      <td>False</td>\n",
       "      <td>RT @rachel2195: @dog_rates the boyfriend and h...</td>\n",
       "      <td>NaN</td>\n",
       "      <td>...</td>\n",
       "      <td>NaN</td>\n",
       "      <td>NaN</td>\n",
       "      <td>NaN</td>\n",
       "      <td>NaN</td>\n",
       "      <td>80</td>\n",
       "      <td>False</td>\n",
       "      <td>{'created_at': 'Mon Jun 19 17:14:49 +0000 2017...</td>\n",
       "      <td>&lt;a href=\"http://twitter.com/download/iphone\" r...</td>\n",
       "      <td>False</td>\n",
       "      <td>{'id': 4196983835, 'id_str': '4196983835', 'na...</td>\n",
       "    </tr>\n",
       "    <tr>\n",
       "      <th>2</th>\n",
       "      <td>NaN</td>\n",
       "      <td>NaN</td>\n",
       "      <td>2017-07-20 16:49:33</td>\n",
       "      <td>[0, 127]</td>\n",
       "      <td>{'hashtags': [], 'symbols': [], 'user_mentions...</td>\n",
       "      <td>{'media': [{'id': 888078426338406400, 'id_str'...</td>\n",
       "      <td>21462</td>\n",
       "      <td>False</td>\n",
       "      <td>This is Gerald. He was just told he didn't get...</td>\n",
       "      <td>NaN</td>\n",
       "      <td>...</td>\n",
       "      <td>NaN</td>\n",
       "      <td>NaN</td>\n",
       "      <td>NaN</td>\n",
       "      <td>NaN</td>\n",
       "      <td>3446</td>\n",
       "      <td>False</td>\n",
       "      <td>NaN</td>\n",
       "      <td>&lt;a href=\"http://twitter.com/download/iphone\" r...</td>\n",
       "      <td>False</td>\n",
       "      <td>{'id': 4196983835, 'id_str': '4196983835', 'na...</td>\n",
       "    </tr>\n",
       "    <tr>\n",
       "      <th>3</th>\n",
       "      <td>NaN</td>\n",
       "      <td>NaN</td>\n",
       "      <td>2017-07-30 15:58:51</td>\n",
       "      <td>[0, 79]</td>\n",
       "      <td>{'hashtags': [], 'symbols': [], 'user_mentions...</td>\n",
       "      <td>{'media': [{'id': 891689552724799489, 'id_str'...</td>\n",
       "      <td>41568</td>\n",
       "      <td>False</td>\n",
       "      <td>This is Darla. She commenced a snooze mid meal...</td>\n",
       "      <td>NaN</td>\n",
       "      <td>...</td>\n",
       "      <td>NaN</td>\n",
       "      <td>NaN</td>\n",
       "      <td>NaN</td>\n",
       "      <td>NaN</td>\n",
       "      <td>8509</td>\n",
       "      <td>False</td>\n",
       "      <td>NaN</td>\n",
       "      <td>&lt;a href=\"http://twitter.com/download/iphone\" r...</td>\n",
       "      <td>False</td>\n",
       "      <td>{'id': 4196983835, 'id_str': '4196983835', 'na...</td>\n",
       "    </tr>\n",
       "    <tr>\n",
       "      <th>4</th>\n",
       "      <td>NaN</td>\n",
       "      <td>NaN</td>\n",
       "      <td>2017-06-27 00:10:17</td>\n",
       "      <td>[0, 90]</td>\n",
       "      <td>{'hashtags': [], 'symbols': [], 'user_mentions...</td>\n",
       "      <td>{'media': [{'id': 879492035853660161, 'id_str'...</td>\n",
       "      <td>23122</td>\n",
       "      <td>False</td>\n",
       "      <td>This is Bailey. He thinks you should measure e...</td>\n",
       "      <td>NaN</td>\n",
       "      <td>...</td>\n",
       "      <td>NaN</td>\n",
       "      <td>NaN</td>\n",
       "      <td>NaN</td>\n",
       "      <td>NaN</td>\n",
       "      <td>3145</td>\n",
       "      <td>False</td>\n",
       "      <td>NaN</td>\n",
       "      <td>&lt;a href=\"http://twitter.com/download/iphone\" r...</td>\n",
       "      <td>False</td>\n",
       "      <td>{'id': 4196983835, 'id_str': '4196983835', 'na...</td>\n",
       "    </tr>\n",
       "  </tbody>\n",
       "</table>\n",
       "<p>5 rows × 31 columns</p>\n",
       "</div>"
      ],
      "text/plain": [
       "   contributors  coordinates          created_at display_text_range  \\\n",
       "0           NaN          NaN 2017-07-15 23:25:31           [0, 131]   \n",
       "1           NaN          NaN 2017-06-21 19:36:23           [0, 122]   \n",
       "2           NaN          NaN 2017-07-20 16:49:33           [0, 127]   \n",
       "3           NaN          NaN 2017-07-30 15:58:51            [0, 79]   \n",
       "4           NaN          NaN 2017-06-27 00:10:17            [0, 90]   \n",
       "\n",
       "                                            entities  \\\n",
       "0  {'hashtags': [], 'symbols': [], 'user_mentions...   \n",
       "1  {'hashtags': [], 'symbols': [], 'user_mentions...   \n",
       "2  {'hashtags': [], 'symbols': [], 'user_mentions...   \n",
       "3  {'hashtags': [], 'symbols': [], 'user_mentions...   \n",
       "4  {'hashtags': [], 'symbols': [], 'user_mentions...   \n",
       "\n",
       "                                   extended_entities  favorite_count  \\\n",
       "0  {'media': [{'id': 886366138128449536, 'id_str'...           20897   \n",
       "1  {'media': [{'id': 876850756556607488, 'id_str'...               0   \n",
       "2  {'media': [{'id': 888078426338406400, 'id_str'...           21462   \n",
       "3  {'media': [{'id': 891689552724799489, 'id_str'...           41568   \n",
       "4  {'media': [{'id': 879492035853660161, 'id_str'...           23122   \n",
       "\n",
       "   favorited                                          full_text  geo  \\\n",
       "0      False  This is Roscoe. Another pupper fallen victim t...  NaN   \n",
       "1      False  RT @rachel2195: @dog_rates the boyfriend and h...  NaN   \n",
       "2      False  This is Gerald. He was just told he didn't get...  NaN   \n",
       "3      False  This is Darla. She commenced a snooze mid meal...  NaN   \n",
       "4      False  This is Bailey. He thinks you should measure e...  NaN   \n",
       "\n",
       "                         ...                          quoted_status  \\\n",
       "0                        ...                                    NaN   \n",
       "1                        ...                                    NaN   \n",
       "2                        ...                                    NaN   \n",
       "3                        ...                                    NaN   \n",
       "4                        ...                                    NaN   \n",
       "\n",
       "   quoted_status_id quoted_status_id_str  quoted_status_permalink  \\\n",
       "0               NaN                  NaN                      NaN   \n",
       "1               NaN                  NaN                      NaN   \n",
       "2               NaN                  NaN                      NaN   \n",
       "3               NaN                  NaN                      NaN   \n",
       "4               NaN                  NaN                      NaN   \n",
       "\n",
       "   retweet_count  retweeted  \\\n",
       "0           3152      False   \n",
       "1             80      False   \n",
       "2           3446      False   \n",
       "3           8509      False   \n",
       "4           3145      False   \n",
       "\n",
       "                                    retweeted_status  \\\n",
       "0                                                NaN   \n",
       "1  {'created_at': 'Mon Jun 19 17:14:49 +0000 2017...   \n",
       "2                                                NaN   \n",
       "3                                                NaN   \n",
       "4                                                NaN   \n",
       "\n",
       "                                              source truncated  \\\n",
       "0  <a href=\"http://twitter.com/download/iphone\" r...     False   \n",
       "1  <a href=\"http://twitter.com/download/iphone\" r...     False   \n",
       "2  <a href=\"http://twitter.com/download/iphone\" r...     False   \n",
       "3  <a href=\"http://twitter.com/download/iphone\" r...     False   \n",
       "4  <a href=\"http://twitter.com/download/iphone\" r...     False   \n",
       "\n",
       "                                                user  \n",
       "0  {'id': 4196983835, 'id_str': '4196983835', 'na...  \n",
       "1  {'id': 4196983835, 'id_str': '4196983835', 'na...  \n",
       "2  {'id': 4196983835, 'id_str': '4196983835', 'na...  \n",
       "3  {'id': 4196983835, 'id_str': '4196983835', 'na...  \n",
       "4  {'id': 4196983835, 'id_str': '4196983835', 'na...  \n",
       "\n",
       "[5 rows x 31 columns]"
      ]
     },
     "execution_count": 8,
     "metadata": {},
     "output_type": "execute_result"
    }
   ],
   "source": [
    "df_tweet_details =  pd.read_json(path_or_buf='./data/collected_data/tweet_json.txt', \\\n",
    "                                 encoding='utf-8', orient='records', lines=True)\n",
    "df_tweet_details.head(5)"
   ]
  },
  {
   "cell_type": "code",
   "execution_count": 9,
   "metadata": {},
   "outputs": [
    {
     "data": {
      "text/plain": [
       "Index(['contributors', 'coordinates', 'created_at', 'display_text_range',\n",
       "       'entities', 'extended_entities', 'favorite_count', 'favorited',\n",
       "       'full_text', 'geo', 'id', 'id_str', 'in_reply_to_screen_name',\n",
       "       'in_reply_to_status_id', 'in_reply_to_status_id_str',\n",
       "       'in_reply_to_user_id', 'in_reply_to_user_id_str', 'is_quote_status',\n",
       "       'lang', 'place', 'possibly_sensitive', 'quoted_status',\n",
       "       'quoted_status_id', 'quoted_status_id_str', 'quoted_status_permalink',\n",
       "       'retweet_count', 'retweeted', 'retweeted_status', 'source', 'truncated',\n",
       "       'user'],\n",
       "      dtype='object')"
      ]
     },
     "execution_count": 9,
     "metadata": {},
     "output_type": "execute_result"
    }
   ],
   "source": [
    "df_tweet_details.columns"
   ]
  },
  {
   "cell_type": "markdown",
   "metadata": {},
   "source": [
    "#### Get Image Predictions file via Requests Library\n",
    "\n",
    "Additional Data for Dog Breed Prediction is provided and is available from here: https://d17h27t6h515a5.cloudfront.net/topher/2017/August/599fd2ad_image-predictions/image-predictions.tsv\n",
    "\n",
    "We can use `requests` library to get this Tab Separated File, as shown below:"
   ]
  },
  {
   "cell_type": "code",
   "execution_count": 10,
   "metadata": {},
   "outputs": [],
   "source": [
    "''' The below function download file from the web server for a given URL and File Name'''\n",
    "def download_file_from_url(file_url=None, file_name=None):\n",
    "    try:\n",
    "        req = requests.get(file_url)        \n",
    "        with open(file_name, 'wb') as fs:\n",
    "            fs.write(req.content)\n",
    "        return 0\n",
    "    except:\n",
    "        print('Error downloading file. Error Message: {0}'.format(sys.exc_info()[0]))\n",
    "        return -1"
   ]
  },
  {
   "cell_type": "code",
   "execution_count": 11,
   "metadata": {},
   "outputs": [],
   "source": [
    "#initial variables.\n",
    "df_image_prediction =  None\n",
    "file_url = 'https://d17h27t6h515a5.cloudfront.net/topher/2017/August/599fd2ad_image-predictions/image-predictions.tsv'\n",
    "image_prediction_file_name = './data/collected_data/image-predictions.tsv'\n",
    "\n",
    "#Download the image prediction file.\n",
    "download_file_from_url(file_url=file_url, file_name=image_prediction_file_name)\n",
    "\n",
    "#Check if file Exists.\n",
    "if os.path.isfile(image_prediction_file_name):\n",
    "    df_image_prediction = pd.read_csv(image_prediction_file_name, sep='\\t')\n",
    "else:\n",
    "    raise Exception('No file Exists')"
   ]
  },
  {
   "cell_type": "code",
   "execution_count": 12,
   "metadata": {},
   "outputs": [
    {
     "data": {
      "text/html": [
       "<div>\n",
       "<style scoped>\n",
       "    .dataframe tbody tr th:only-of-type {\n",
       "        vertical-align: middle;\n",
       "    }\n",
       "\n",
       "    .dataframe tbody tr th {\n",
       "        vertical-align: top;\n",
       "    }\n",
       "\n",
       "    .dataframe thead th {\n",
       "        text-align: right;\n",
       "    }\n",
       "</style>\n",
       "<table border=\"1\" class=\"dataframe\">\n",
       "  <thead>\n",
       "    <tr style=\"text-align: right;\">\n",
       "      <th></th>\n",
       "      <th>tweet_id</th>\n",
       "      <th>jpg_url</th>\n",
       "      <th>img_num</th>\n",
       "      <th>p1</th>\n",
       "      <th>p1_conf</th>\n",
       "      <th>p1_dog</th>\n",
       "      <th>p2</th>\n",
       "      <th>p2_conf</th>\n",
       "      <th>p2_dog</th>\n",
       "      <th>p3</th>\n",
       "      <th>p3_conf</th>\n",
       "      <th>p3_dog</th>\n",
       "    </tr>\n",
       "  </thead>\n",
       "  <tbody>\n",
       "    <tr>\n",
       "      <th>0</th>\n",
       "      <td>666020888022790149</td>\n",
       "      <td>https://pbs.twimg.com/media/CT4udn0WwAA0aMy.jpg</td>\n",
       "      <td>1</td>\n",
       "      <td>Welsh_springer_spaniel</td>\n",
       "      <td>0.465074</td>\n",
       "      <td>True</td>\n",
       "      <td>collie</td>\n",
       "      <td>0.156665</td>\n",
       "      <td>True</td>\n",
       "      <td>Shetland_sheepdog</td>\n",
       "      <td>0.061428</td>\n",
       "      <td>True</td>\n",
       "    </tr>\n",
       "    <tr>\n",
       "      <th>1</th>\n",
       "      <td>666029285002620928</td>\n",
       "      <td>https://pbs.twimg.com/media/CT42GRgUYAA5iDo.jpg</td>\n",
       "      <td>1</td>\n",
       "      <td>redbone</td>\n",
       "      <td>0.506826</td>\n",
       "      <td>True</td>\n",
       "      <td>miniature_pinscher</td>\n",
       "      <td>0.074192</td>\n",
       "      <td>True</td>\n",
       "      <td>Rhodesian_ridgeback</td>\n",
       "      <td>0.072010</td>\n",
       "      <td>True</td>\n",
       "    </tr>\n",
       "    <tr>\n",
       "      <th>2</th>\n",
       "      <td>666033412701032449</td>\n",
       "      <td>https://pbs.twimg.com/media/CT4521TWwAEvMyu.jpg</td>\n",
       "      <td>1</td>\n",
       "      <td>German_shepherd</td>\n",
       "      <td>0.596461</td>\n",
       "      <td>True</td>\n",
       "      <td>malinois</td>\n",
       "      <td>0.138584</td>\n",
       "      <td>True</td>\n",
       "      <td>bloodhound</td>\n",
       "      <td>0.116197</td>\n",
       "      <td>True</td>\n",
       "    </tr>\n",
       "    <tr>\n",
       "      <th>3</th>\n",
       "      <td>666044226329800704</td>\n",
       "      <td>https://pbs.twimg.com/media/CT5Dr8HUEAA-lEu.jpg</td>\n",
       "      <td>1</td>\n",
       "      <td>Rhodesian_ridgeback</td>\n",
       "      <td>0.408143</td>\n",
       "      <td>True</td>\n",
       "      <td>redbone</td>\n",
       "      <td>0.360687</td>\n",
       "      <td>True</td>\n",
       "      <td>miniature_pinscher</td>\n",
       "      <td>0.222752</td>\n",
       "      <td>True</td>\n",
       "    </tr>\n",
       "    <tr>\n",
       "      <th>4</th>\n",
       "      <td>666049248165822465</td>\n",
       "      <td>https://pbs.twimg.com/media/CT5IQmsXIAAKY4A.jpg</td>\n",
       "      <td>1</td>\n",
       "      <td>miniature_pinscher</td>\n",
       "      <td>0.560311</td>\n",
       "      <td>True</td>\n",
       "      <td>Rottweiler</td>\n",
       "      <td>0.243682</td>\n",
       "      <td>True</td>\n",
       "      <td>Doberman</td>\n",
       "      <td>0.154629</td>\n",
       "      <td>True</td>\n",
       "    </tr>\n",
       "  </tbody>\n",
       "</table>\n",
       "</div>"
      ],
      "text/plain": [
       "             tweet_id                                          jpg_url  \\\n",
       "0  666020888022790149  https://pbs.twimg.com/media/CT4udn0WwAA0aMy.jpg   \n",
       "1  666029285002620928  https://pbs.twimg.com/media/CT42GRgUYAA5iDo.jpg   \n",
       "2  666033412701032449  https://pbs.twimg.com/media/CT4521TWwAEvMyu.jpg   \n",
       "3  666044226329800704  https://pbs.twimg.com/media/CT5Dr8HUEAA-lEu.jpg   \n",
       "4  666049248165822465  https://pbs.twimg.com/media/CT5IQmsXIAAKY4A.jpg   \n",
       "\n",
       "   img_num                      p1   p1_conf  p1_dog                  p2  \\\n",
       "0        1  Welsh_springer_spaniel  0.465074    True              collie   \n",
       "1        1                 redbone  0.506826    True  miniature_pinscher   \n",
       "2        1         German_shepherd  0.596461    True            malinois   \n",
       "3        1     Rhodesian_ridgeback  0.408143    True             redbone   \n",
       "4        1      miniature_pinscher  0.560311    True          Rottweiler   \n",
       "\n",
       "    p2_conf  p2_dog                   p3   p3_conf  p3_dog  \n",
       "0  0.156665    True    Shetland_sheepdog  0.061428    True  \n",
       "1  0.074192    True  Rhodesian_ridgeback  0.072010    True  \n",
       "2  0.138584    True           bloodhound  0.116197    True  \n",
       "3  0.360687    True   miniature_pinscher  0.222752    True  \n",
       "4  0.243682    True             Doberman  0.154629    True  "
      ]
     },
     "execution_count": 12,
     "metadata": {},
     "output_type": "execute_result"
    }
   ],
   "source": [
    "df_image_prediction.head(5)"
   ]
  },
  {
   "cell_type": "code",
   "execution_count": 13,
   "metadata": {},
   "outputs": [
    {
     "data": {
      "text/plain": [
       "Index(['tweet_id', 'jpg_url', 'img_num', 'p1', 'p1_conf', 'p1_dog', 'p2',\n",
       "       'p2_conf', 'p2_dog', 'p3', 'p3_conf', 'p3_dog'],\n",
       "      dtype='object')"
      ]
     },
     "execution_count": 13,
     "metadata": {},
     "output_type": "execute_result"
    }
   ],
   "source": [
    "df_image_prediction.columns"
   ]
  },
  {
   "cell_type": "markdown",
   "metadata": {},
   "source": [
    "Image Prediction Data Fields\n",
    "\n",
    "* `tweet_id` : Tweet ID\n",
    "* `jpg_url`: Image URL\n",
    "* `img_num`: Image Number. Since Twitter supports upto 4 images per tweet. This column contains the index of the image being predicted\n",
    "* `p1`: Dog Breed - Prediction 1\n",
    "* `p1_conf`: Prediction 1 -  Confidence Score\n",
    "* `p1_dog`: Is Prediction Dog or some other animal/object - Prediction 1\n",
    "* `p2`: Dog Breed - Prediction 2\n",
    "* `p2_conf`: Prediction  2 -  Confidence Score\n",
    "* `p2_dog`: Is Prediction Dog or some other animal/object - Prediction 2\n",
    "* `p3`: Dog Breed - Prediction 3\n",
    "* `p3_conf`: Prediction  3 -  Confidence Score\n",
    "* `p3_dog`: Is Prediction Dog or some other animal/object - Prediction 3"
   ]
  },
  {
   "cell_type": "markdown",
   "metadata": {},
   "source": [
    "<a id='data_wrangling_assess'></a>\n",
    "### 2.2 Assess"
   ]
  },
  {
   "cell_type": "markdown",
   "metadata": {},
   "source": [
    "Since we have gathered all the data for our data analysis, Lets focus on the major step **Assess**. Here we are looking for two things: \n",
    "\n",
    "1. Quality Issues\n",
    "2. Structural Issues\n",
    "\n",
    "These issues can be detected either using Visual Assessment or Programmatic Assessment. Let's identify the data issues for all the data we have collected so far."
   ]
  },
  {
   "cell_type": "markdown",
   "metadata": {},
   "source": [
    "Visual Assessments for all the data have been done by opening the file in Visual Code Editor/Excel"
   ]
  },
  {
   "cell_type": "markdown",
   "metadata": {},
   "source": [
    "#### Analysis Twitter archive enhanced data frame"
   ]
  },
  {
   "cell_type": "code",
   "execution_count": 14,
   "metadata": {},
   "outputs": [
    {
     "name": "stdout",
     "output_type": "stream",
     "text": [
      "<class 'pandas.core.frame.DataFrame'>\n",
      "RangeIndex: 2356 entries, 0 to 2355\n",
      "Data columns (total 17 columns):\n",
      "tweet_id                      2356 non-null int64\n",
      "in_reply_to_status_id         78 non-null float64\n",
      "in_reply_to_user_id           78 non-null float64\n",
      "timestamp                     2356 non-null object\n",
      "source                        2356 non-null object\n",
      "text                          2356 non-null object\n",
      "retweeted_status_id           181 non-null float64\n",
      "retweeted_status_user_id      181 non-null float64\n",
      "retweeted_status_timestamp    181 non-null object\n",
      "expanded_urls                 2297 non-null object\n",
      "rating_numerator              2356 non-null int64\n",
      "rating_denominator            2356 non-null int64\n",
      "name                          2356 non-null object\n",
      "doggo                         2356 non-null object\n",
      "floofer                       2356 non-null object\n",
      "pupper                        2356 non-null object\n",
      "puppo                         2356 non-null object\n",
      "dtypes: float64(4), int64(3), object(10)\n",
      "memory usage: 313.0+ KB\n"
     ]
    }
   ],
   "source": [
    "df_tweet_archive.info()"
   ]
  },
  {
   "cell_type": "code",
   "execution_count": 15,
   "metadata": {},
   "outputs": [
    {
     "data": {
      "text/html": [
       "<div>\n",
       "<style scoped>\n",
       "    .dataframe tbody tr th:only-of-type {\n",
       "        vertical-align: middle;\n",
       "    }\n",
       "\n",
       "    .dataframe tbody tr th {\n",
       "        vertical-align: top;\n",
       "    }\n",
       "\n",
       "    .dataframe thead th {\n",
       "        text-align: right;\n",
       "    }\n",
       "</style>\n",
       "<table border=\"1\" class=\"dataframe\">\n",
       "  <thead>\n",
       "    <tr style=\"text-align: right;\">\n",
       "      <th></th>\n",
       "      <th>tweet_id</th>\n",
       "      <th>in_reply_to_status_id</th>\n",
       "      <th>in_reply_to_user_id</th>\n",
       "      <th>retweeted_status_id</th>\n",
       "      <th>retweeted_status_user_id</th>\n",
       "      <th>rating_numerator</th>\n",
       "      <th>rating_denominator</th>\n",
       "    </tr>\n",
       "  </thead>\n",
       "  <tbody>\n",
       "    <tr>\n",
       "      <th>count</th>\n",
       "      <td>2.356000e+03</td>\n",
       "      <td>7.800000e+01</td>\n",
       "      <td>7.800000e+01</td>\n",
       "      <td>1.810000e+02</td>\n",
       "      <td>1.810000e+02</td>\n",
       "      <td>2356.000000</td>\n",
       "      <td>2356.000000</td>\n",
       "    </tr>\n",
       "    <tr>\n",
       "      <th>mean</th>\n",
       "      <td>7.427716e+17</td>\n",
       "      <td>7.455079e+17</td>\n",
       "      <td>2.014171e+16</td>\n",
       "      <td>7.720400e+17</td>\n",
       "      <td>1.241698e+16</td>\n",
       "      <td>13.126486</td>\n",
       "      <td>10.455433</td>\n",
       "    </tr>\n",
       "    <tr>\n",
       "      <th>std</th>\n",
       "      <td>6.856705e+16</td>\n",
       "      <td>7.582492e+16</td>\n",
       "      <td>1.252797e+17</td>\n",
       "      <td>6.236928e+16</td>\n",
       "      <td>9.599254e+16</td>\n",
       "      <td>45.876648</td>\n",
       "      <td>6.745237</td>\n",
       "    </tr>\n",
       "    <tr>\n",
       "      <th>min</th>\n",
       "      <td>6.660209e+17</td>\n",
       "      <td>6.658147e+17</td>\n",
       "      <td>1.185634e+07</td>\n",
       "      <td>6.661041e+17</td>\n",
       "      <td>7.832140e+05</td>\n",
       "      <td>0.000000</td>\n",
       "      <td>0.000000</td>\n",
       "    </tr>\n",
       "    <tr>\n",
       "      <th>25%</th>\n",
       "      <td>6.783989e+17</td>\n",
       "      <td>6.757419e+17</td>\n",
       "      <td>3.086374e+08</td>\n",
       "      <td>7.186315e+17</td>\n",
       "      <td>4.196984e+09</td>\n",
       "      <td>10.000000</td>\n",
       "      <td>10.000000</td>\n",
       "    </tr>\n",
       "    <tr>\n",
       "      <th>50%</th>\n",
       "      <td>7.196279e+17</td>\n",
       "      <td>7.038708e+17</td>\n",
       "      <td>4.196984e+09</td>\n",
       "      <td>7.804657e+17</td>\n",
       "      <td>4.196984e+09</td>\n",
       "      <td>11.000000</td>\n",
       "      <td>10.000000</td>\n",
       "    </tr>\n",
       "    <tr>\n",
       "      <th>75%</th>\n",
       "      <td>7.993373e+17</td>\n",
       "      <td>8.257804e+17</td>\n",
       "      <td>4.196984e+09</td>\n",
       "      <td>8.203146e+17</td>\n",
       "      <td>4.196984e+09</td>\n",
       "      <td>12.000000</td>\n",
       "      <td>10.000000</td>\n",
       "    </tr>\n",
       "    <tr>\n",
       "      <th>max</th>\n",
       "      <td>8.924206e+17</td>\n",
       "      <td>8.862664e+17</td>\n",
       "      <td>8.405479e+17</td>\n",
       "      <td>8.874740e+17</td>\n",
       "      <td>7.874618e+17</td>\n",
       "      <td>1776.000000</td>\n",
       "      <td>170.000000</td>\n",
       "    </tr>\n",
       "  </tbody>\n",
       "</table>\n",
       "</div>"
      ],
      "text/plain": [
       "           tweet_id  in_reply_to_status_id  in_reply_to_user_id  \\\n",
       "count  2.356000e+03           7.800000e+01         7.800000e+01   \n",
       "mean   7.427716e+17           7.455079e+17         2.014171e+16   \n",
       "std    6.856705e+16           7.582492e+16         1.252797e+17   \n",
       "min    6.660209e+17           6.658147e+17         1.185634e+07   \n",
       "25%    6.783989e+17           6.757419e+17         3.086374e+08   \n",
       "50%    7.196279e+17           7.038708e+17         4.196984e+09   \n",
       "75%    7.993373e+17           8.257804e+17         4.196984e+09   \n",
       "max    8.924206e+17           8.862664e+17         8.405479e+17   \n",
       "\n",
       "       retweeted_status_id  retweeted_status_user_id  rating_numerator  \\\n",
       "count         1.810000e+02              1.810000e+02       2356.000000   \n",
       "mean          7.720400e+17              1.241698e+16         13.126486   \n",
       "std           6.236928e+16              9.599254e+16         45.876648   \n",
       "min           6.661041e+17              7.832140e+05          0.000000   \n",
       "25%           7.186315e+17              4.196984e+09         10.000000   \n",
       "50%           7.804657e+17              4.196984e+09         11.000000   \n",
       "75%           8.203146e+17              4.196984e+09         12.000000   \n",
       "max           8.874740e+17              7.874618e+17       1776.000000   \n",
       "\n",
       "       rating_denominator  \n",
       "count         2356.000000  \n",
       "mean            10.455433  \n",
       "std              6.745237  \n",
       "min              0.000000  \n",
       "25%             10.000000  \n",
       "50%             10.000000  \n",
       "75%             10.000000  \n",
       "max            170.000000  "
      ]
     },
     "execution_count": 15,
     "metadata": {},
     "output_type": "execute_result"
    }
   ],
   "source": [
    "df_tweet_archive.describe()"
   ]
  },
  {
   "cell_type": "code",
   "execution_count": 16,
   "metadata": {},
   "outputs": [
    {
     "data": {
      "text/plain": [
       "4     1070\n",
       "5      437\n",
       "6      336\n",
       "7      222\n",
       "3      100\n",
       "8       75\n",
       "1       56\n",
       "9       25\n",
       "2       23\n",
       "10       6\n",
       "12       3\n",
       "11       2\n",
       "14       1\n",
       "Name: name, dtype: int64"
      ]
     },
     "execution_count": 16,
     "metadata": {},
     "output_type": "execute_result"
    }
   ],
   "source": [
    "df_tweet_archive.name.str.len().value_counts()"
   ]
  },
  {
   "cell_type": "code",
   "execution_count": 17,
   "metadata": {},
   "outputs": [
    {
     "data": {
      "text/plain": [
       "a     55\n",
       "Bo     9\n",
       "an     7\n",
       "O      1\n",
       "Al     1\n",
       "Jo     1\n",
       "JD     1\n",
       "Mo     1\n",
       "Ed     1\n",
       "by     1\n",
       "my     1\n",
       "Name: name, dtype: int64"
      ]
     },
     "execution_count": 17,
     "metadata": {},
     "output_type": "execute_result"
    }
   ],
   "source": [
    "df_tweet_archive[df_tweet_archive.name.str.len() < 3].name.value_counts()"
   ]
  },
  {
   "cell_type": "code",
   "execution_count": 18,
   "metadata": {},
   "outputs": [
    {
     "data": {
      "text/plain": [
       "(20, 17)"
      ]
     },
     "execution_count": 18,
     "metadata": {},
     "output_type": "execute_result"
    }
   ],
   "source": [
    "df_tweet_archive[df_tweet_archive.rating_denominator > 10].shape"
   ]
  },
  {
   "cell_type": "code",
   "execution_count": 19,
   "metadata": {},
   "outputs": [
    {
     "data": {
      "text/plain": [
       "(24, 17)"
      ]
     },
     "execution_count": 19,
     "metadata": {},
     "output_type": "execute_result"
    }
   ],
   "source": [
    "df_tweet_archive[df_tweet_archive.rating_numerator > 20].shape"
   ]
  },
  {
   "cell_type": "markdown",
   "metadata": {},
   "source": [
    "Twitter Archive DataFrame Issues:\n",
    "\n",
    "Dirty Data Issues:\n",
    "\n",
    "* `rating_denominator` - About 20 records have Rating Denominator greater than 10. As per [Wiki](https://en.wikipedia.org/wiki/WeRateDogs), the rating scale is one to ten.\n",
    "* `rating_numerator` - About 24 records have Rating Numerator greater than 20. This is unusual. We need to check why this is happening\n",
    "* `name` - Some dog names have come up as 'a', 'an', 'this', 'the' etc.,\n",
    "* `dog stage` - Not all tweets have dog stage names\n",
    "* `timestamp` - Tweet Created Time is not in datetime type\n",
    "* `Missing Values` - retweet count and favorite count values are missing for each tweet.\n",
    "\n",
    "Messy Data Issues:\n",
    "\n",
    "* `dog stage` - 'puppo', 'doggo', 'floffer', 'pupper' - these are different dog stages. In other words, these are values. These needs to be tracked under one variable 'dog_stage'\n"
   ]
  },
  {
   "cell_type": "markdown",
   "metadata": {},
   "source": [
    "#### Analysing Twitter Data collected via API"
   ]
  },
  {
   "cell_type": "code",
   "execution_count": 20,
   "metadata": {},
   "outputs": [
    {
     "name": "stdout",
     "output_type": "stream",
     "text": [
      "<class 'pandas.core.frame.DataFrame'>\n",
      "RangeIndex: 2342 entries, 0 to 2341\n",
      "Data columns (total 31 columns):\n",
      "contributors                 0 non-null float64\n",
      "coordinates                  0 non-null float64\n",
      "created_at                   2342 non-null datetime64[ns]\n",
      "display_text_range           2342 non-null object\n",
      "entities                     2342 non-null object\n",
      "extended_entities            2068 non-null object\n",
      "favorite_count               2342 non-null int64\n",
      "favorited                    2342 non-null bool\n",
      "full_text                    2342 non-null object\n",
      "geo                          0 non-null float64\n",
      "id                           2342 non-null int64\n",
      "id_str                       2342 non-null int64\n",
      "in_reply_to_screen_name      78 non-null object\n",
      "in_reply_to_status_id        78 non-null float64\n",
      "in_reply_to_status_id_str    78 non-null float64\n",
      "in_reply_to_user_id          78 non-null float64\n",
      "in_reply_to_user_id_str      78 non-null float64\n",
      "is_quote_status              2342 non-null bool\n",
      "lang                         2342 non-null object\n",
      "place                        1 non-null object\n",
      "possibly_sensitive           2206 non-null float64\n",
      "quoted_status                24 non-null object\n",
      "quoted_status_id             26 non-null float64\n",
      "quoted_status_id_str         26 non-null float64\n",
      "quoted_status_permalink      26 non-null object\n",
      "retweet_count                2342 non-null int64\n",
      "retweeted                    2342 non-null bool\n",
      "retweeted_status             168 non-null object\n",
      "source                       2342 non-null object\n",
      "truncated                    2342 non-null bool\n",
      "user                         2342 non-null object\n",
      "dtypes: bool(4), datetime64[ns](1), float64(10), int64(4), object(12)\n",
      "memory usage: 503.2+ KB\n"
     ]
    }
   ],
   "source": [
    "df_tweet_details.info()"
   ]
  },
  {
   "cell_type": "code",
   "execution_count": 21,
   "metadata": {},
   "outputs": [
    {
     "data": {
      "text/html": [
       "<div>\n",
       "<style scoped>\n",
       "    .dataframe tbody tr th:only-of-type {\n",
       "        vertical-align: middle;\n",
       "    }\n",
       "\n",
       "    .dataframe tbody tr th {\n",
       "        vertical-align: top;\n",
       "    }\n",
       "\n",
       "    .dataframe thead th {\n",
       "        text-align: right;\n",
       "    }\n",
       "</style>\n",
       "<table border=\"1\" class=\"dataframe\">\n",
       "  <thead>\n",
       "    <tr style=\"text-align: right;\">\n",
       "      <th></th>\n",
       "      <th>contributors</th>\n",
       "      <th>coordinates</th>\n",
       "      <th>favorite_count</th>\n",
       "      <th>geo</th>\n",
       "      <th>id</th>\n",
       "      <th>id_str</th>\n",
       "      <th>in_reply_to_status_id</th>\n",
       "      <th>in_reply_to_status_id_str</th>\n",
       "      <th>in_reply_to_user_id</th>\n",
       "      <th>in_reply_to_user_id_str</th>\n",
       "      <th>possibly_sensitive</th>\n",
       "      <th>quoted_status_id</th>\n",
       "      <th>quoted_status_id_str</th>\n",
       "      <th>retweet_count</th>\n",
       "    </tr>\n",
       "  </thead>\n",
       "  <tbody>\n",
       "    <tr>\n",
       "      <th>count</th>\n",
       "      <td>0.0</td>\n",
       "      <td>0.0</td>\n",
       "      <td>2342.000000</td>\n",
       "      <td>0.0</td>\n",
       "      <td>2.342000e+03</td>\n",
       "      <td>2.342000e+03</td>\n",
       "      <td>7.800000e+01</td>\n",
       "      <td>7.800000e+01</td>\n",
       "      <td>7.800000e+01</td>\n",
       "      <td>7.800000e+01</td>\n",
       "      <td>2206.0</td>\n",
       "      <td>2.600000e+01</td>\n",
       "      <td>2.600000e+01</td>\n",
       "      <td>2342.000000</td>\n",
       "    </tr>\n",
       "    <tr>\n",
       "      <th>mean</th>\n",
       "      <td>NaN</td>\n",
       "      <td>NaN</td>\n",
       "      <td>8005.427839</td>\n",
       "      <td>NaN</td>\n",
       "      <td>7.422212e+17</td>\n",
       "      <td>7.422212e+17</td>\n",
       "      <td>7.455079e+17</td>\n",
       "      <td>7.455079e+17</td>\n",
       "      <td>2.014171e+16</td>\n",
       "      <td>2.014171e+16</td>\n",
       "      <td>0.0</td>\n",
       "      <td>8.113972e+17</td>\n",
       "      <td>8.113972e+17</td>\n",
       "      <td>2953.654142</td>\n",
       "    </tr>\n",
       "    <tr>\n",
       "      <th>std</th>\n",
       "      <td>NaN</td>\n",
       "      <td>NaN</td>\n",
       "      <td>12390.375870</td>\n",
       "      <td>NaN</td>\n",
       "      <td>6.832408e+16</td>\n",
       "      <td>6.832408e+16</td>\n",
       "      <td>7.582492e+16</td>\n",
       "      <td>7.582492e+16</td>\n",
       "      <td>1.252797e+17</td>\n",
       "      <td>1.252797e+17</td>\n",
       "      <td>0.0</td>\n",
       "      <td>6.295843e+16</td>\n",
       "      <td>6.295843e+16</td>\n",
       "      <td>4967.216254</td>\n",
       "    </tr>\n",
       "    <tr>\n",
       "      <th>min</th>\n",
       "      <td>NaN</td>\n",
       "      <td>NaN</td>\n",
       "      <td>0.000000</td>\n",
       "      <td>NaN</td>\n",
       "      <td>6.660209e+17</td>\n",
       "      <td>6.660209e+17</td>\n",
       "      <td>6.658147e+17</td>\n",
       "      <td>6.658147e+17</td>\n",
       "      <td>1.185634e+07</td>\n",
       "      <td>1.185634e+07</td>\n",
       "      <td>0.0</td>\n",
       "      <td>6.721083e+17</td>\n",
       "      <td>6.721083e+17</td>\n",
       "      <td>0.000000</td>\n",
       "    </tr>\n",
       "    <tr>\n",
       "      <th>25%</th>\n",
       "      <td>NaN</td>\n",
       "      <td>NaN</td>\n",
       "      <td>1384.750000</td>\n",
       "      <td>NaN</td>\n",
       "      <td>6.783509e+17</td>\n",
       "      <td>6.783509e+17</td>\n",
       "      <td>6.757419e+17</td>\n",
       "      <td>6.757419e+17</td>\n",
       "      <td>3.086374e+08</td>\n",
       "      <td>3.086374e+08</td>\n",
       "      <td>0.0</td>\n",
       "      <td>7.761338e+17</td>\n",
       "      <td>7.761338e+17</td>\n",
       "      <td>592.500000</td>\n",
       "    </tr>\n",
       "    <tr>\n",
       "      <th>50%</th>\n",
       "      <td>NaN</td>\n",
       "      <td>NaN</td>\n",
       "      <td>3484.500000</td>\n",
       "      <td>NaN</td>\n",
       "      <td>7.186224e+17</td>\n",
       "      <td>7.186224e+17</td>\n",
       "      <td>7.038708e+17</td>\n",
       "      <td>7.038708e+17</td>\n",
       "      <td>4.196984e+09</td>\n",
       "      <td>4.196984e+09</td>\n",
       "      <td>0.0</td>\n",
       "      <td>8.281173e+17</td>\n",
       "      <td>8.281173e+17</td>\n",
       "      <td>1379.500000</td>\n",
       "    </tr>\n",
       "    <tr>\n",
       "      <th>75%</th>\n",
       "      <td>NaN</td>\n",
       "      <td>NaN</td>\n",
       "      <td>9812.500000</td>\n",
       "      <td>NaN</td>\n",
       "      <td>7.986971e+17</td>\n",
       "      <td>7.986971e+17</td>\n",
       "      <td>8.257804e+17</td>\n",
       "      <td>8.257804e+17</td>\n",
       "      <td>4.196984e+09</td>\n",
       "      <td>4.196984e+09</td>\n",
       "      <td>0.0</td>\n",
       "      <td>8.637581e+17</td>\n",
       "      <td>8.637581e+17</td>\n",
       "      <td>3446.000000</td>\n",
       "    </tr>\n",
       "    <tr>\n",
       "      <th>max</th>\n",
       "      <td>NaN</td>\n",
       "      <td>NaN</td>\n",
       "      <td>165032.000000</td>\n",
       "      <td>NaN</td>\n",
       "      <td>8.924206e+17</td>\n",
       "      <td>8.924206e+17</td>\n",
       "      <td>8.862664e+17</td>\n",
       "      <td>8.862664e+17</td>\n",
       "      <td>8.405479e+17</td>\n",
       "      <td>8.405479e+17</td>\n",
       "      <td>0.0</td>\n",
       "      <td>8.860534e+17</td>\n",
       "      <td>8.860534e+17</td>\n",
       "      <td>84191.000000</td>\n",
       "    </tr>\n",
       "  </tbody>\n",
       "</table>\n",
       "</div>"
      ],
      "text/plain": [
       "       contributors  coordinates  favorite_count  geo            id  \\\n",
       "count           0.0          0.0     2342.000000  0.0  2.342000e+03   \n",
       "mean            NaN          NaN     8005.427839  NaN  7.422212e+17   \n",
       "std             NaN          NaN    12390.375870  NaN  6.832408e+16   \n",
       "min             NaN          NaN        0.000000  NaN  6.660209e+17   \n",
       "25%             NaN          NaN     1384.750000  NaN  6.783509e+17   \n",
       "50%             NaN          NaN     3484.500000  NaN  7.186224e+17   \n",
       "75%             NaN          NaN     9812.500000  NaN  7.986971e+17   \n",
       "max             NaN          NaN   165032.000000  NaN  8.924206e+17   \n",
       "\n",
       "             id_str  in_reply_to_status_id  in_reply_to_status_id_str  \\\n",
       "count  2.342000e+03           7.800000e+01               7.800000e+01   \n",
       "mean   7.422212e+17           7.455079e+17               7.455079e+17   \n",
       "std    6.832408e+16           7.582492e+16               7.582492e+16   \n",
       "min    6.660209e+17           6.658147e+17               6.658147e+17   \n",
       "25%    6.783509e+17           6.757419e+17               6.757419e+17   \n",
       "50%    7.186224e+17           7.038708e+17               7.038708e+17   \n",
       "75%    7.986971e+17           8.257804e+17               8.257804e+17   \n",
       "max    8.924206e+17           8.862664e+17               8.862664e+17   \n",
       "\n",
       "       in_reply_to_user_id  in_reply_to_user_id_str  possibly_sensitive  \\\n",
       "count         7.800000e+01             7.800000e+01              2206.0   \n",
       "mean          2.014171e+16             2.014171e+16                 0.0   \n",
       "std           1.252797e+17             1.252797e+17                 0.0   \n",
       "min           1.185634e+07             1.185634e+07                 0.0   \n",
       "25%           3.086374e+08             3.086374e+08                 0.0   \n",
       "50%           4.196984e+09             4.196984e+09                 0.0   \n",
       "75%           4.196984e+09             4.196984e+09                 0.0   \n",
       "max           8.405479e+17             8.405479e+17                 0.0   \n",
       "\n",
       "       quoted_status_id  quoted_status_id_str  retweet_count  \n",
       "count      2.600000e+01          2.600000e+01    2342.000000  \n",
       "mean       8.113972e+17          8.113972e+17    2953.654142  \n",
       "std        6.295843e+16          6.295843e+16    4967.216254  \n",
       "min        6.721083e+17          6.721083e+17       0.000000  \n",
       "25%        7.761338e+17          7.761338e+17     592.500000  \n",
       "50%        8.281173e+17          8.281173e+17    1379.500000  \n",
       "75%        8.637581e+17          8.637581e+17    3446.000000  \n",
       "max        8.860534e+17          8.860534e+17   84191.000000  "
      ]
     },
     "execution_count": 21,
     "metadata": {},
     "output_type": "execute_result"
    }
   ],
   "source": [
    "df_tweet_details.describe()"
   ]
  },
  {
   "cell_type": "code",
   "execution_count": 22,
   "metadata": {},
   "outputs": [
    {
     "data": {
      "text/html": [
       "<div>\n",
       "<style scoped>\n",
       "    .dataframe tbody tr th:only-of-type {\n",
       "        vertical-align: middle;\n",
       "    }\n",
       "\n",
       "    .dataframe tbody tr th {\n",
       "        vertical-align: top;\n",
       "    }\n",
       "\n",
       "    .dataframe thead th {\n",
       "        text-align: right;\n",
       "    }\n",
       "</style>\n",
       "<table border=\"1\" class=\"dataframe\">\n",
       "  <thead>\n",
       "    <tr style=\"text-align: right;\">\n",
       "      <th></th>\n",
       "      <th>contributors</th>\n",
       "      <th>coordinates</th>\n",
       "      <th>created_at</th>\n",
       "      <th>display_text_range</th>\n",
       "      <th>entities</th>\n",
       "      <th>extended_entities</th>\n",
       "      <th>favorite_count</th>\n",
       "      <th>favorited</th>\n",
       "      <th>full_text</th>\n",
       "      <th>geo</th>\n",
       "      <th>...</th>\n",
       "      <th>quoted_status</th>\n",
       "      <th>quoted_status_id</th>\n",
       "      <th>quoted_status_id_str</th>\n",
       "      <th>quoted_status_permalink</th>\n",
       "      <th>retweet_count</th>\n",
       "      <th>retweeted</th>\n",
       "      <th>retweeted_status</th>\n",
       "      <th>source</th>\n",
       "      <th>truncated</th>\n",
       "      <th>user</th>\n",
       "    </tr>\n",
       "  </thead>\n",
       "  <tbody>\n",
       "  </tbody>\n",
       "</table>\n",
       "<p>0 rows × 31 columns</p>\n",
       "</div>"
      ],
      "text/plain": [
       "Empty DataFrame\n",
       "Columns: [contributors, coordinates, created_at, display_text_range, entities, extended_entities, favorite_count, favorited, full_text, geo, id, id_str, in_reply_to_screen_name, in_reply_to_status_id, in_reply_to_status_id_str, in_reply_to_user_id, in_reply_to_user_id_str, is_quote_status, lang, place, possibly_sensitive, quoted_status, quoted_status_id, quoted_status_id_str, quoted_status_permalink, retweet_count, retweeted, retweeted_status, source, truncated, user]\n",
       "Index: []\n",
       "\n",
       "[0 rows x 31 columns]"
      ]
     },
     "execution_count": 22,
     "metadata": {},
     "output_type": "execute_result"
    }
   ],
   "source": [
    "df_tweet_details[df_tweet_details.retweeted]"
   ]
  },
  {
   "cell_type": "code",
   "execution_count": 23,
   "metadata": {},
   "outputs": [
    {
     "data": {
      "text/plain": [
       "Index(['contributors', 'coordinates', 'created_at', 'display_text_range',\n",
       "       'entities', 'extended_entities', 'favorite_count', 'favorited',\n",
       "       'full_text', 'geo', 'id', 'id_str', 'in_reply_to_screen_name',\n",
       "       'in_reply_to_status_id', 'in_reply_to_status_id_str',\n",
       "       'in_reply_to_user_id', 'in_reply_to_user_id_str', 'is_quote_status',\n",
       "       'lang', 'place', 'possibly_sensitive', 'quoted_status',\n",
       "       'quoted_status_id', 'quoted_status_id_str', 'quoted_status_permalink',\n",
       "       'retweet_count', 'retweeted', 'retweeted_status', 'source', 'truncated',\n",
       "       'user'],\n",
       "      dtype='object')"
      ]
     },
     "execution_count": 23,
     "metadata": {},
     "output_type": "execute_result"
    }
   ],
   "source": [
    "df_tweet_details.columns"
   ]
  },
  {
   "cell_type": "code",
   "execution_count": 24,
   "metadata": {},
   "outputs": [
    {
     "data": {
      "text/plain": [
       "2342"
      ]
     },
     "execution_count": 24,
     "metadata": {},
     "output_type": "execute_result"
    }
   ],
   "source": [
    "len(set(df_tweet_archive['tweet_id']).intersection(set(df_tweet_details['id'])))"
   ]
  },
  {
   "cell_type": "code",
   "execution_count": 25,
   "metadata": {},
   "outputs": [
    {
     "data": {
      "text/plain": [
       "1512"
      ]
     },
     "execution_count": 25,
     "metadata": {},
     "output_type": "execute_result"
    }
   ],
   "source": [
    "len(set(df_tweet_archive['tweet_id']).intersection(set(df_tweet_details['id_str'])))"
   ]
  },
  {
   "cell_type": "markdown",
   "metadata": {},
   "source": [
    "Twitter API Details DataFrame Issues:\n",
    "\n",
    "Dirty Data Issues:\n",
    "\n",
    "* `Missing Values` - Original we queried twitter for 2356 Tweets, but we have only 2342 Tweet Details. We are missing about 14 Tweet Details.\n",
    "* `contributors`, `coordinates`,`geo`,  `in_reply_to_screen_name`,`in_reply_to_status_id`, `in_reply_to_status_id_str`,`in_reply_to_user_id`, `in_reply_to_user_id_str`, `is_quote_status`, `possibly_sensitive`, `quoted_status`, `quoted_status_id`, `quoted_status_id_str`, `quoted_status_permalink`, `truncated`,`user`, `retweeted_status` - Remove these columns as we are not planning to use these columns.\n",
    "* `id`, `id_str` - These are duplicate columns.`id_str` column value does not match with all the tweet id in twitter archive data. So, we need to remove 'id_str' column\n",
    "\n",
    "Tidy Data Issues:\n",
    "\n",
    "* `extended_entities` - This column contains the data in JSON format. This need to be parsed. Also, a tweet may contain upto 4 images. Each Image is an observation and need to be a row in the dataset.\n",
    "* `entities` - Need to parse this column to get the hashtags from each tweet.\n"
   ]
  },
  {
   "cell_type": "markdown",
   "metadata": {},
   "source": [
    "#### Analyzing Image Prediction Data Frame"
   ]
  },
  {
   "cell_type": "code",
   "execution_count": 26,
   "metadata": {},
   "outputs": [
    {
     "name": "stdout",
     "output_type": "stream",
     "text": [
      "<class 'pandas.core.frame.DataFrame'>\n",
      "RangeIndex: 2075 entries, 0 to 2074\n",
      "Data columns (total 12 columns):\n",
      "tweet_id    2075 non-null int64\n",
      "jpg_url     2075 non-null object\n",
      "img_num     2075 non-null int64\n",
      "p1          2075 non-null object\n",
      "p1_conf     2075 non-null float64\n",
      "p1_dog      2075 non-null bool\n",
      "p2          2075 non-null object\n",
      "p2_conf     2075 non-null float64\n",
      "p2_dog      2075 non-null bool\n",
      "p3          2075 non-null object\n",
      "p3_conf     2075 non-null float64\n",
      "p3_dog      2075 non-null bool\n",
      "dtypes: bool(3), float64(3), int64(2), object(4)\n",
      "memory usage: 152.1+ KB\n"
     ]
    }
   ],
   "source": [
    "df_image_prediction.info()"
   ]
  },
  {
   "cell_type": "code",
   "execution_count": 27,
   "metadata": {},
   "outputs": [
    {
     "data": {
      "text/html": [
       "<div>\n",
       "<style scoped>\n",
       "    .dataframe tbody tr th:only-of-type {\n",
       "        vertical-align: middle;\n",
       "    }\n",
       "\n",
       "    .dataframe tbody tr th {\n",
       "        vertical-align: top;\n",
       "    }\n",
       "\n",
       "    .dataframe thead th {\n",
       "        text-align: right;\n",
       "    }\n",
       "</style>\n",
       "<table border=\"1\" class=\"dataframe\">\n",
       "  <thead>\n",
       "    <tr style=\"text-align: right;\">\n",
       "      <th></th>\n",
       "      <th>tweet_id</th>\n",
       "      <th>img_num</th>\n",
       "      <th>p1_conf</th>\n",
       "      <th>p2_conf</th>\n",
       "      <th>p3_conf</th>\n",
       "    </tr>\n",
       "  </thead>\n",
       "  <tbody>\n",
       "    <tr>\n",
       "      <th>count</th>\n",
       "      <td>2.075000e+03</td>\n",
       "      <td>2075.000000</td>\n",
       "      <td>2075.000000</td>\n",
       "      <td>2.075000e+03</td>\n",
       "      <td>2.075000e+03</td>\n",
       "    </tr>\n",
       "    <tr>\n",
       "      <th>mean</th>\n",
       "      <td>7.384514e+17</td>\n",
       "      <td>1.203855</td>\n",
       "      <td>0.594548</td>\n",
       "      <td>1.345886e-01</td>\n",
       "      <td>6.032417e-02</td>\n",
       "    </tr>\n",
       "    <tr>\n",
       "      <th>std</th>\n",
       "      <td>6.785203e+16</td>\n",
       "      <td>0.561875</td>\n",
       "      <td>0.271174</td>\n",
       "      <td>1.006657e-01</td>\n",
       "      <td>5.090593e-02</td>\n",
       "    </tr>\n",
       "    <tr>\n",
       "      <th>min</th>\n",
       "      <td>6.660209e+17</td>\n",
       "      <td>1.000000</td>\n",
       "      <td>0.044333</td>\n",
       "      <td>1.011300e-08</td>\n",
       "      <td>1.740170e-10</td>\n",
       "    </tr>\n",
       "    <tr>\n",
       "      <th>25%</th>\n",
       "      <td>6.764835e+17</td>\n",
       "      <td>1.000000</td>\n",
       "      <td>0.364412</td>\n",
       "      <td>5.388625e-02</td>\n",
       "      <td>1.622240e-02</td>\n",
       "    </tr>\n",
       "    <tr>\n",
       "      <th>50%</th>\n",
       "      <td>7.119988e+17</td>\n",
       "      <td>1.000000</td>\n",
       "      <td>0.588230</td>\n",
       "      <td>1.181810e-01</td>\n",
       "      <td>4.944380e-02</td>\n",
       "    </tr>\n",
       "    <tr>\n",
       "      <th>75%</th>\n",
       "      <td>7.932034e+17</td>\n",
       "      <td>1.000000</td>\n",
       "      <td>0.843855</td>\n",
       "      <td>1.955655e-01</td>\n",
       "      <td>9.180755e-02</td>\n",
       "    </tr>\n",
       "    <tr>\n",
       "      <th>max</th>\n",
       "      <td>8.924206e+17</td>\n",
       "      <td>4.000000</td>\n",
       "      <td>1.000000</td>\n",
       "      <td>4.880140e-01</td>\n",
       "      <td>2.734190e-01</td>\n",
       "    </tr>\n",
       "  </tbody>\n",
       "</table>\n",
       "</div>"
      ],
      "text/plain": [
       "           tweet_id      img_num      p1_conf       p2_conf       p3_conf\n",
       "count  2.075000e+03  2075.000000  2075.000000  2.075000e+03  2.075000e+03\n",
       "mean   7.384514e+17     1.203855     0.594548  1.345886e-01  6.032417e-02\n",
       "std    6.785203e+16     0.561875     0.271174  1.006657e-01  5.090593e-02\n",
       "min    6.660209e+17     1.000000     0.044333  1.011300e-08  1.740170e-10\n",
       "25%    6.764835e+17     1.000000     0.364412  5.388625e-02  1.622240e-02\n",
       "50%    7.119988e+17     1.000000     0.588230  1.181810e-01  4.944380e-02\n",
       "75%    7.932034e+17     1.000000     0.843855  1.955655e-01  9.180755e-02\n",
       "max    8.924206e+17     4.000000     1.000000  4.880140e-01  2.734190e-01"
      ]
     },
     "execution_count": 27,
     "metadata": {},
     "output_type": "execute_result"
    }
   ],
   "source": [
    "df_image_prediction.describe()"
   ]
  },
  {
   "cell_type": "code",
   "execution_count": 28,
   "metadata": {},
   "outputs": [
    {
     "data": {
      "text/plain": [
       "2075"
      ]
     },
     "execution_count": 28,
     "metadata": {},
     "output_type": "execute_result"
    }
   ],
   "source": [
    "len(df_image_prediction.tweet_id.unique())"
   ]
  },
  {
   "cell_type": "markdown",
   "metadata": {},
   "source": [
    "Twitter Image Prediction Data Issues.\n",
    "\n",
    "Dirty Data Issues:\n",
    "\n",
    "* `Missing Data` - We have 2356 tweets in twitter archive data, but image prediction is available only for 2075 tweets.\n",
    "\n",
    "Tidy Data Issues\n",
    "\n",
    "* `p1`, `p2`, `p3`,`p1_conf`, `p2_conf`, `p3_conf`, `p1_dog`, `p2_dog`, `p3_dog` - These are just column names. Ideally, they should have been tracked in 4 variables (Prediction Number, Breed Prediction, Prediction Confidence Score, Is Prediction a dog?) \n",
    "* Finally, We can reduce the three dataframes into 2 data frames. One for tweet details and one for image predictions"
   ]
  },
  {
   "cell_type": "markdown",
   "metadata": {},
   "source": [
    "### Summary all Issues Found.\n",
    "\n",
    "#### Dirty Data Issues.\n",
    "\n",
    "**Twitter Archive Data Frame**\n",
    "\n",
    "1. `rating_denominator` - About 20 records have Rating Denominator greater than 10. As per [Wiki](https://en.wikipedia.org/wiki/WeRateDogs), the rating scale is one to ten.\n",
    "2. `rating_numerator` - About 24 records have Rating Numerator greater than 20. This is unusual. We need to check why this is happening\n",
    "3. `name` - Some dog names have come up as 'a', 'an', 'this', 'the' etc.,\n",
    "5. `dog stage` - Not all tweets have dog stage names\n",
    "5. `timestamp` - Tweet Created Time is not in datetime type\n",
    "6. `Missing Values` - retweet count and favorite count values are missing for each tweet. This will be fixed by when we query the tweet data using Twitter API. \n",
    "7. `puppo, doggo, floffer, pupper` - Have 'None' in place of NaN values.\n",
    "\n",
    "**All Twitter Details Data Frame**\n",
    "8. `Missing Values` - Original we queried twitter for 2356 Tweets, but we have only 2342 Tweet Details. We are missing about 14 Tweet Details.\n",
    "9. `contributors`, `coordinates`,`geo`,  `in_reply_to_screen_name`,`in_reply_to_status_id`, `in_reply_to_status_id_str`,`in_reply_to_user_id`, `in_reply_to_user_id_str`, `is_quote_status`, `possibly_sensitive`, `quoted_status`, `quoted_status_id`, `quoted_status_id_str`, `quoted_status_permalink`, `truncated`,`user`, `retweeted_status` - Unwanted columns in the dataframe.\n",
    "10. `id`, `id_str` - These are duplicate columns. One of them can be removed. `id_str` column does not match all the tweets from archive tweetid\n",
    "\n",
    "**Twitter Image Prediction Data Frame**\n",
    "11. `Missing Data` - We have 2356 tweets in twitter archive data, but image prediction is available only for 2075 tweets.\n",
    "\n",
    "#### Tidy Data Issues.\n",
    "\n",
    "**Twitter Archive Data Frame**\n",
    "* `dog stage` - 'puppo', 'doggo', 'floffer', 'pupper' - these are different dog stages. In other words, these are values. These needs to be tracked under one variable 'dog_stage'\n",
    "\n",
    "**All Twitter Details Data Frame**\n",
    "* `extended_entities` - This column contains the data in JSON format. This need to be parsed. Also, a tweet may contain upto 4 images. Each Image is an observation and need to be a row in the dataset.\n",
    "* `entities` - Need to parse this column to get the hashtags from each tweet.\n",
    "\n",
    "**Twitter Image Prediction Data Frame**\n",
    "\n",
    "* `p1`, `p2`, `p3`,`p1_conf`, `p2_conf`, `p3_conf`, `p1_dog`, `p2_dog`, `p3_dog` - These are just column names. Ideally, they should have been tracked in 4 variables (Prediction Number, Breed Prediction, Prediction Confidence Score, Is Prediction a dog?) \n",
    "* Finally, We can reduce the three dataframes into 2 data frames. One for tweet details and one for image predictions\n"
   ]
  },
  {
   "cell_type": "markdown",
   "metadata": {},
   "source": [
    "<a id=\"data_wrangle_clean\" ></a>\n",
    "\n",
    "## 2.3 Cleaning"
   ]
  },
  {
   "cell_type": "markdown",
   "metadata": {},
   "source": [
    "Before we start any cleaning, first lets make a **copy** of all the dataframes."
   ]
  },
  {
   "cell_type": "code",
   "execution_count": 29,
   "metadata": {},
   "outputs": [],
   "source": [
    "df_tweet_archive_clean = df_tweet_archive.copy()\n",
    "df_image_prediction_clean = df_image_prediction.copy()\n",
    "df_tweet_details_clean = df_tweet_details.copy()"
   ]
  },
  {
   "cell_type": "markdown",
   "metadata": {},
   "source": [
    "### First, clean the twitter enhanced data."
   ]
  },
  {
   "cell_type": "markdown",
   "metadata": {},
   "source": [
    "#### Define\n",
    "* Drop ununsed columns ('in_reply_to_status_id', 'in_reply_to_user_id', 'retweeted_status_id', 'retweeted_status_user_id', 'retweeted_status_timestamp').\n",
    "* Using Pandas Melt function, transform the columns ('puppo', 'doggo', 'floffer', 'pupper' ) into one single variable named 'dog stage', and remove the following columns ('puppo', 'doggo', 'floffer', 'pupper' ) once transformed.\n",
    "* Some of the dog stage values have 'None'. Need to replace 'None' with np.NaN.\n",
    "* Some of the dog names have come as 'a', 'an', 'this', 'the'.  Use regular expression to identify the name. If the name is not provided (some of the dog names are just breed names not real names), then return np.NaN. Also, it seems some of the dog names follow this convention 'named &lt;value&gt;' \n",
    "* Convert 'timestamp's object type to datetime type.\n",
    "* Identify all the rating pattern matches in the tweet text. If the denominator is greater than 10, check if its a multiple of ten, as rating can be given to pack of gods. If its a multiple of 10, then normalize the numerator & denominator values i.e (numerator * 10) / denominator. The resulting value can be used as numerator and denomintor can be set to 10. If the denominator is not a multiple of 10, then its highly likely rating is not provided. For these cases, we will use np.NaN.\n",
    "* Some of the rating numerators are greater than 20. ie. We have ratings like 182/10, 1776/10. Let's assign value 20.0 for these ratings, so that our analysis does not skew.\n",
    "\n",
    "\n",
    "#### Code"
   ]
  },
  {
   "cell_type": "code",
   "execution_count": 30,
   "metadata": {},
   "outputs": [],
   "source": [
    "#Drop unnecessary columns\n",
    "df_tweet_archive_clean.drop(['in_reply_to_status_id', 'in_reply_to_user_id', 'retweeted_status_id', \\\n",
    "                                                       'retweeted_status_user_id', 'retweeted_status_timestamp'], \\\n",
    "                                                      axis=1, inplace=True)"
   ]
  },
  {
   "cell_type": "code",
   "execution_count": 31,
   "metadata": {},
   "outputs": [],
   "source": [
    "#Filter selected columns and replace None with np.NaN\n",
    "df_dog_stage_filtered = df_tweet_archive_clean[['tweet_id', 'doggo', 'floofer', 'pupper', 'puppo']].copy()\n",
    "df_dog_stage_filtered.doggo.replace('None', np.NAN, inplace=True)\n",
    "df_dog_stage_filtered.floofer.replace('None', np.NAN, inplace=True)\n",
    "df_dog_stage_filtered.pupper.replace('None', np.NAN, inplace=True)\n",
    "df_dog_stage_filtered.puppo.replace('None', np.NAN, inplace=True)\n",
    "\n",
    "#Using Melt function, get dog_stage variable\n",
    "df_dog_stage_melt = df_dog_stage_filtered.melt(id_vars=['tweet_id'], var_name='dog_stage')\n",
    "#Drop any null values\n",
    "df_dog_stage_melt.dropna(inplace=True)"
   ]
  },
  {
   "cell_type": "code",
   "execution_count": 32,
   "metadata": {},
   "outputs": [
    {
     "name": "stdout",
     "output_type": "stream",
     "text": [
      "<class 'pandas.core.frame.DataFrame'>\n",
      "Int64Index: 394 entries, 9 to 8151\n",
      "Data columns (total 3 columns):\n",
      "tweet_id     394 non-null int64\n",
      "dog_stage    394 non-null object\n",
      "value        394 non-null object\n",
      "dtypes: int64(1), object(2)\n",
      "memory usage: 12.3+ KB\n"
     ]
    }
   ],
   "source": [
    "df_dog_stage_melt.info()"
   ]
  },
  {
   "cell_type": "code",
   "execution_count": 33,
   "metadata": {},
   "outputs": [],
   "source": [
    "#remove duplicate column, as dog_stage has already has this value.\n",
    "df_dog_stage_melt.drop(['value'], inplace=True, axis=1)"
   ]
  },
  {
   "cell_type": "code",
   "execution_count": 34,
   "metadata": {},
   "outputs": [],
   "source": [
    "#Merge Dataframes\n",
    "df_tweet_archive_clean = df_tweet_archive_clean.merge(df_dog_stage_melt, how='left', left_on=['tweet_id'], right_on=['tweet_id'], suffixes=['','_l'] )"
   ]
  },
  {
   "cell_type": "code",
   "execution_count": 35,
   "metadata": {},
   "outputs": [],
   "source": [
    "#Remove unwanted columns\n",
    "df_tweet_archive_clean.drop(['doggo', 'floofer', 'pupper', 'puppo'], axis=1, inplace=True)"
   ]
  },
  {
   "cell_type": "code",
   "execution_count": 36,
   "metadata": {},
   "outputs": [],
   "source": [
    "#convert timestamp to datetime type\n",
    "df_tweet_archive_clean['timestamp'] = pd.to_datetime(df_tweet_archive_clean['timestamp'])"
   ]
  },
  {
   "cell_type": "code",
   "execution_count": 37,
   "metadata": {},
   "outputs": [],
   "source": [
    "''' This function corects some of the dog names which are listed as a/an/the,this. \n",
    "Some of their name followed by \"named <value>\" '''\n",
    "def fix_dog_names(dataframe=None):\n",
    "    dog_name = dataframe['name']\n",
    "    full_txt = dataframe['text']\n",
    "    if dog_name == 'a' or dog_name == 'an' or dog_name == 'the' or dog_name == 'this':\n",
    "        m = re.search(r'named (\\w+)', full_txt ) \n",
    "        if m is not None and len(m.groups()) > 0:            \n",
    "            return m.groups()[0]\n",
    "        else:\n",
    "            return np.NaN        \n",
    "    elif dog_name == 'None':\n",
    "        return np.NaN\n",
    "    else:\n",
    "        return dog_name"
   ]
  },
  {
   "cell_type": "code",
   "execution_count": 38,
   "metadata": {},
   "outputs": [],
   "source": [
    "df_tweet_archive_clean['name'] =  df_tweet_archive_clean.apply(fix_dog_names, axis=1)"
   ]
  },
  {
   "cell_type": "code",
   "execution_count": 39,
   "metadata": {},
   "outputs": [],
   "source": [
    "#Refrence Link: https://stackoverflow.com/questions/4703390/how-to-extract-a-floating-number-from-a-string\n",
    "''' This function gets all the rating scores, and normalize if needed (some ratings are included for pack of dogs) '''\n",
    "def get_score_per_tweet(dataframe=None):\n",
    "    text = dataframe['text']\n",
    "    matches = re.findall(r'(?:(?:\\d*\\.\\d+)|(?:\\d+\\.?))/(?:(?:\\d*\\.\\d+)|(?:\\d+\\.?))', text)\n",
    "    for m in matches:\n",
    "        str_split = m.split('/')\n",
    "        if str_split is not None and len(str_split) == 2:\n",
    "            denominator = (float) (str_split[1])\n",
    "            numerator = (float) (str_split[0])\n",
    "            if (denominator % 10) == 0 and denominator != 0:\n",
    "                return pd.Series([ (int) ((numerator * 10) / denominator), (int)(10) ])\n",
    "            else:\n",
    "                continue\n",
    "    return pd.Series([np.NaN, np.NaN])"
   ]
  },
  {
   "cell_type": "code",
   "execution_count": 40,
   "metadata": {},
   "outputs": [],
   "source": [
    "df_tweet_archive_clean[['rating_numerator', 'rating_denominator']] = df_tweet_archive_clean.apply(get_score_per_tweet, axis=1)"
   ]
  },
  {
   "cell_type": "code",
   "execution_count": 41,
   "metadata": {},
   "outputs": [],
   "source": [
    "#Fixing outliers.\n",
    "df_tweet_archive_clean['rating_numerator'] = df_tweet_archive_clean['rating_numerator'].apply(lambda x: 20 if x > 20 else x)"
   ]
  },
  {
   "cell_type": "markdown",
   "metadata": {},
   "source": [
    "#### Test"
   ]
  },
  {
   "cell_type": "code",
   "execution_count": 42,
   "metadata": {},
   "outputs": [
    {
     "name": "stdout",
     "output_type": "stream",
     "text": [
      "<class 'pandas.core.frame.DataFrame'>\n",
      "Int64Index: 2370 entries, 0 to 2369\n",
      "Data columns (total 9 columns):\n",
      "tweet_id              2370 non-null int64\n",
      "timestamp             2370 non-null datetime64[ns]\n",
      "source                2370 non-null object\n",
      "text                  2370 non-null object\n",
      "expanded_urls         2311 non-null object\n",
      "rating_numerator      2367 non-null float64\n",
      "rating_denominator    2367 non-null float64\n",
      "name                  1566 non-null object\n",
      "dog_stage             394 non-null object\n",
      "dtypes: datetime64[ns](1), float64(2), int64(1), object(5)\n",
      "memory usage: 185.2+ KB\n"
     ]
    }
   ],
   "source": [
    "df_tweet_archive_clean.info()"
   ]
  },
  {
   "cell_type": "code",
   "execution_count": 43,
   "metadata": {},
   "outputs": [
    {
     "data": {
      "text/plain": [
       "pupper     257\n",
       "doggo       97\n",
       "puppo       30\n",
       "floofer     10\n",
       "Name: dog_stage, dtype: int64"
      ]
     },
     "execution_count": 43,
     "metadata": {},
     "output_type": "execute_result"
    }
   ],
   "source": [
    "df_tweet_archive_clean.dog_stage.value_counts()"
   ]
  },
  {
   "cell_type": "code",
   "execution_count": 44,
   "metadata": {},
   "outputs": [],
   "source": [
    "# checking for incorrect dog names\n",
    "invalid_dog_name = ( (df_tweet_archive_clean.name == 'a') | (df_tweet_archive_clean.name.str == 'an' ) \\\n",
    "                    | (df_tweet_archive_clean.name == 'the') | (df_tweet_archive_clean.name.str == 'this') )\n",
    "\n",
    "assert len(df_tweet_archive_clean[invalid_dog_name]) == 0"
   ]
  },
  {
   "cell_type": "code",
   "execution_count": 45,
   "metadata": {},
   "outputs": [],
   "source": [
    "#Check for incorrect rating denominator\n",
    "assert sum(df_tweet_archive_clean.rating_denominator > 10) == 0\n",
    "assert sum(df_tweet_archive_clean.rating_denominator < 10) == 0"
   ]
  },
  {
   "cell_type": "code",
   "execution_count": 46,
   "metadata": {},
   "outputs": [],
   "source": [
    "#check for incorrect rating numerator\n",
    "assert sum(df_tweet_archive_clean.rating_numerator > 20) == 0"
   ]
  },
  {
   "cell_type": "markdown",
   "metadata": {},
   "source": [
    "**From the above, we can see, the unwanted columns have been removed.**\n",
    "* `timestamp` - is a datetime column.\n",
    "* `dog_stage` - New Variable column added to show the dog stage. It has only 394 values. \n",
    "* `name` - Invalid dog names such as 'a','an', 'this', 'the' have been removed\n",
    "* `rating_numerator` - We made sure there are no numerator values greater than 20.0\n",
    "* `rating_denominator` - Rating Denominator is always 10, expect for the tweets which has no rating."
   ]
  },
  {
   "cell_type": "markdown",
   "metadata": {},
   "source": [
    "### Second, let's clean twitter API data frame."
   ]
  },
  {
   "cell_type": "code",
   "execution_count": 47,
   "metadata": {},
   "outputs": [
    {
     "data": {
      "text/plain": [
       "Index(['contributors', 'coordinates', 'created_at', 'display_text_range',\n",
       "       'entities', 'extended_entities', 'favorite_count', 'favorited',\n",
       "       'full_text', 'geo', 'id', 'id_str', 'in_reply_to_screen_name',\n",
       "       'in_reply_to_status_id', 'in_reply_to_status_id_str',\n",
       "       'in_reply_to_user_id', 'in_reply_to_user_id_str', 'is_quote_status',\n",
       "       'lang', 'place', 'possibly_sensitive', 'quoted_status',\n",
       "       'quoted_status_id', 'quoted_status_id_str', 'quoted_status_permalink',\n",
       "       'retweet_count', 'retweeted', 'retweeted_status', 'source', 'truncated',\n",
       "       'user'],\n",
       "      dtype='object')"
      ]
     },
     "execution_count": 47,
     "metadata": {},
     "output_type": "execute_result"
    }
   ],
   "source": [
    "df_tweet_details_clean.columns"
   ]
  },
  {
   "cell_type": "markdown",
   "metadata": {},
   "source": [
    "#### Defne\n",
    "\n",
    "* Drop un-necessary columns 'contributors', 'coordinates', 'created_at', 'display_text_range',  'geo', id', 'in_reply_to_screen_name', 'in_reply_to_status_id', 'in_reply_to_status_id_str', 'in_reply_to_user_id', 'in_reply_to_user_id_str', 'is_quote_status','place', 'possibly_sensitive', 'quoted_status','quoted_status_id', 'quoted_status_id_str', 'quoted_status_permalink',  'retweeted_status','truncated', 'user', 'source'\n",
    "* Rename 'id_str' column to 'tweet_id'\n",
    "* Expand entities object, and extract hashtags & user_mentions. \n",
    "* Expand extended_entities object and extract media information like Image URLs, Media Type. Store all the expanded extended entities in a dataframe and store them in a list. Concat all the dataframes into one dataframe. Also, remove unnecessary fields in extended_entities object like 'display_url', 'media_url', 'url', 'source_status_id', 'source_status_id_str', 'source_user_id', 'source_user_id_str', 'additional_media_info','video_info'. Rename 'id_str' in media object to 'media_id'. Merge the expanded dataframe with original twitter details dataframe.\n",
    "* Merge the Twitter API Details with Twitter Archive Information.\n",
    "* Extract Source Information from HTML tags.\n"
   ]
  },
  {
   "cell_type": "code",
   "execution_count": 48,
   "metadata": {},
   "outputs": [],
   "source": [
    "#Drop un-necessary columns\n",
    "df_tweet_details_clean.drop(['contributors', 'coordinates', 'created_at', 'display_text_range',  'geo', \\\n",
    "                             'id_str', 'in_reply_to_screen_name', 'in_reply_to_status_id', 'in_reply_to_status_id_str', \\\n",
    "                             'in_reply_to_user_id', 'in_reply_to_user_id_str', 'is_quote_status','place', 'possibly_sensitive', \\\n",
    "                             'quoted_status','quoted_status_id', 'quoted_status_id_str', 'quoted_status_permalink', \\\n",
    "                             'retweeted_status','truncated', 'user', 'source'], axis=1, inplace=True)"
   ]
  },
  {
   "cell_type": "code",
   "execution_count": 49,
   "metadata": {},
   "outputs": [],
   "source": [
    "#rename id column name -> tweet_id \n",
    "df_tweet_details_clean.rename(index=str, columns={'id': 'tweet_id'}, inplace=True)"
   ]
  },
  {
   "cell_type": "code",
   "execution_count": 50,
   "metadata": {},
   "outputs": [],
   "source": [
    "''' This function parses the source information inside html tag '''\n",
    "def extract_source_from_html(dataframe=None):    \n",
    "    sourcetxt = dataframe['source']    \n",
    "    if sourcetxt is np.NaN:\n",
    "        return np.NaN\n",
    "    if sourcetxt is not None:\n",
    "        r = re.match(r'<[a][^>]*>(.+?)</[a]>', sourcetxt)\n",
    "        if r is not None and len(r.groups()) > 0:\n",
    "            return r.groups()[0]\n",
    "    return np.NaN\n",
    "df_tweet_archive_clean['source'] = df_tweet_archive_clean.apply(extract_source_from_html, axis=1)"
   ]
  },
  {
   "cell_type": "code",
   "execution_count": 51,
   "metadata": {},
   "outputs": [],
   "source": [
    "''' This function extracts hashtags and user mention values from entities object '''\n",
    "def get_hash_tags_and_user_mention_screen_mentions_from_entities_obj(dataFrame = None):\n",
    "    entities_obj = dataFrame['entities']\n",
    "    hashtags_array = []\n",
    "    user_mentions_screen_name_array = []    \n",
    "    for key, value in entities_obj.items():\n",
    "        if key == 'hashtags':\n",
    "            for hashvalue in value:\n",
    "                hashtags_array.append( hashvalue['text'])\n",
    "        if key == 'user_mentions':\n",
    "            for user_mention_value in value:\n",
    "                user_mentions_screen_name_array.append(user_mention_value['screen_name'])\n",
    "    return pd.Series([ hashtags_array, user_mentions_screen_name_array])\n",
    "df_tweet_details_clean[['hashtags','user_mentions']] = df_tweet_details_clean.apply( \\\n",
    "                                                    get_hash_tags_and_user_mention_screen_mentions_from_entities_obj, axis=1)"
   ]
  },
  {
   "cell_type": "code",
   "execution_count": 52,
   "metadata": {},
   "outputs": [],
   "source": [
    "#drop 'entities' column as its already parsed\n",
    "df_tweet_details_clean.drop(['entities'], inplace=True, axis=1)"
   ]
  },
  {
   "cell_type": "code",
   "execution_count": 53,
   "metadata": {},
   "outputs": [],
   "source": [
    "#filtered tweetid and extended entities object\n",
    "df_tweet_details_ex_entities_filtered = df_tweet_details_clean[['tweet_id', 'extended_entities']]"
   ]
  },
  {
   "cell_type": "code",
   "execution_count": 54,
   "metadata": {},
   "outputs": [],
   "source": [
    "''' This function parses the extended entities object into dataframe and appends to datafame list '''\n",
    "def parse_extended_entities(original_dataframe=None, data_collection_dataframe_list=None):\n",
    "    tweet_id = original_dataframe['tweet_id']\n",
    "    extended_entities_obj = original_dataframe['extended_entities']    \n",
    "    extended_entities_df =  json_normalize(extended_entities_obj, 'media')\n",
    "    extended_entities_df['tweet_id'] = tweet_id\n",
    "    extended_entities_df.drop(['id', 'indices', 'sizes'], axis=1, inplace=True)\n",
    "    extended_entities_df['img_num'] = extended_entities_df.index + 1\n",
    "    data_collection_dataframe_list.append(extended_entities_df)  \n",
    "    return\n",
    "\n",
    "data_collection_dataframe_list = []\n",
    "df_tweet_details_ex_entities_filtered[~df_tweet_details_ex_entities_filtered['extended_entities'].isnull()].apply( \\\n",
    "   parse_extended_entities, \\\n",
    "    data_collection_dataframe_list=data_collection_dataframe_list , axis=1)\n",
    "\n",
    "#concat all extended entities dataframe list\n",
    "df_tweet_extended_media_details = pd.concat(data_collection_dataframe_list, ignore_index=True, sort=False)"
   ]
  },
  {
   "cell_type": "code",
   "execution_count": 55,
   "metadata": {},
   "outputs": [],
   "source": [
    "#Drop unnecessary columns from the extended entities object\n",
    "extened_entities_unwanted_cols = ['display_url', 'media_url', 'url', 'source_status_id', 'source_status_id_str', \\\n",
    "                                  'source_user_id', 'source_user_id_str', 'additional_media_info','video_info']\n",
    "df_tweet_extended_media_details.drop(extened_entities_unwanted_cols, inplace=True, axis=1)"
   ]
  },
  {
   "cell_type": "code",
   "execution_count": 56,
   "metadata": {},
   "outputs": [],
   "source": [
    "#Rename 'id_str' to media_id\n",
    "df_tweet_extended_media_details.rename(index=str, columns={\"id_str\": \"media_id\"}, inplace=True)"
   ]
  },
  {
   "cell_type": "code",
   "execution_count": 57,
   "metadata": {},
   "outputs": [],
   "source": [
    "#Merge Extended Entities dataframe with tweet details dataframe.\n",
    "df_tweet_details_clean = df_tweet_details_clean.merge(df_tweet_extended_media_details, how='left', \\\n",
    "                                                     left_on='tweet_id', right_on='tweet_id')"
   ]
  },
  {
   "cell_type": "code",
   "execution_count": 58,
   "metadata": {},
   "outputs": [],
   "source": [
    "#Drop 'extended_entities' column, as its already parsed\n",
    "df_tweet_details_clean.drop(['extended_entities'], inplace=True, axis=1)"
   ]
  },
  {
   "cell_type": "code",
   "execution_count": 59,
   "metadata": {},
   "outputs": [],
   "source": [
    "#combine twitter archive data with tweet details dataframe\n",
    "df_tweet_archive_clean = df_tweet_archive_clean.merge(df_tweet_details_clean,  how='left',\\\n",
    "                                                      left_on='tweet_id', right_on='tweet_id')"
   ]
  },
  {
   "cell_type": "code",
   "execution_count": 60,
   "metadata": {},
   "outputs": [],
   "source": [
    "#drop 'full_text' column as we have this information in 'text' column\n",
    "df_tweet_archive_clean.drop(['full_text'], inplace=True, axis=1)"
   ]
  },
  {
   "cell_type": "markdown",
   "metadata": {},
   "source": [
    "#### Test"
   ]
  },
  {
   "cell_type": "code",
   "execution_count": 61,
   "metadata": {},
   "outputs": [
    {
     "name": "stdout",
     "output_type": "stream",
     "text": [
      "<class 'pandas.core.frame.DataFrame'>\n",
      "Int64Index: 3243 entries, 0 to 3242\n",
      "Data columns (total 21 columns):\n",
      "tweet_id              3243 non-null int64\n",
      "timestamp             3243 non-null datetime64[ns]\n",
      "source                3243 non-null object\n",
      "text                  3243 non-null object\n",
      "expanded_urls         3184 non-null object\n",
      "rating_numerator      3240 non-null float64\n",
      "rating_denominator    3240 non-null float64\n",
      "name                  2218 non-null object\n",
      "dog_stage             573 non-null object\n",
      "favorite_count        3229 non-null float64\n",
      "favorited             3229 non-null object\n",
      "lang                  3229 non-null object\n",
      "retweet_count         3229 non-null float64\n",
      "retweeted             3229 non-null object\n",
      "hashtags              3229 non-null object\n",
      "user_mentions         3229 non-null object\n",
      "expanded_url          2954 non-null object\n",
      "media_id              2954 non-null object\n",
      "media_url_https       2954 non-null object\n",
      "type                  2954 non-null object\n",
      "img_num               2954 non-null float64\n",
      "dtypes: datetime64[ns](1), float64(5), int64(1), object(14)\n",
      "memory usage: 557.4+ KB\n"
     ]
    }
   ],
   "source": [
    "#Visual check to see if there is un-necessary columns\n",
    "df_tweet_archive_clean.info()"
   ]
  },
  {
   "cell_type": "code",
   "execution_count": 62,
   "metadata": {},
   "outputs": [
    {
     "data": {
      "text/plain": [
       "[]                               3183\n",
       "[BarkWeek]                         11\n",
       "[PrideMonth]                        5\n",
       "[notallpuppers]                     4\n",
       "[WKCDogShow]                        4\n",
       "[K9VeteransDay]                     4\n",
       "[dogsatpollingstations]             4\n",
       "[ScienceMarch]                      2\n",
       "[PrideMonthPuppo, PrideMonth]       2\n",
       "[GoodDogs]                          2\n",
       "[LoveTwitter]                       1\n",
       "[FinalFur]                          1\n",
       "[ImWithThor]                        1\n",
       "[WomensMarch]                       1\n",
       "[BellLetsTalk]                      1\n",
       "[NoDaysOff, swole]                  1\n",
       "[Canada150]                         1\n",
       "[BATP]                              1\n",
       "Name: hashtags, dtype: int64"
      ]
     },
     "execution_count": 62,
     "metadata": {},
     "output_type": "execute_result"
    }
   ],
   "source": [
    "#check to see if the hashtags values are parsed correctly\n",
    "df_tweet_archive_clean.hashtags.value_counts()"
   ]
  },
  {
   "cell_type": "code",
   "execution_count": 63,
   "metadata": {},
   "outputs": [
    {
     "data": {
      "text/plain": [
       "[]                                               2944\n",
       "[dog_rates]                                       186\n",
       "[GoodDogsGame]                                      3\n",
       "[LoveYourMelon]                                     3\n",
       "[tallylott, dog_rates]                              2\n",
       "[alexmartindawg, matt___nelson, GoodDogsGame]       2\n",
       "[markhoppus]                                        2\n",
       "[rachaeleasler, dog_rates]                          2\n",
       "[rachel2195, dog_rates]                             2\n",
       "[dogratingrating]                                   2\n",
       "[dhmontgomery]                                      1\n",
       "[POTUS]                                             1\n",
       "[Jenna_Marbles, dog_rates]                          1\n",
       "[ABC7]                                              1\n",
       "[Jenna_Marbles]                                     1\n",
       "[wane15]                                            1\n",
       "[frasercampbell_]                                   1\n",
       "[s8n]                                               1\n",
       "[PDolan37]                                          1\n",
       "[basic_vacek_, dog_rates]                           1\n",
       "[breaannanicolee]                                   1\n",
       "[0_kelvin_0]                                        1\n",
       "[Andy_Pace_]                                        1\n",
       "[jonnysun, Lin_Manuel]                              1\n",
       "[AaronChewning, dog_rates]                          1\n",
       "[christinemcc98]                                    1\n",
       "[Marc_IRL]                                          1\n",
       "[docmisterio]                                       1\n",
       "[NonWhiteHat, MayhewMayhem]                         1\n",
       "[Adele]                                             1\n",
       "                                                 ... \n",
       "[serial, MrRoles]                                   1\n",
       "[mdougherty20]                                      1\n",
       "[ABC]                                               1\n",
       "[gwilks1]                                           1\n",
       "[LilyArtz]                                          1\n",
       "[madalynrossi]                                      1\n",
       "[pootdanielle]                                      1\n",
       "[rebeccacollinzz]                                   1\n",
       "[skyehellenkamp]                                    1\n",
       "[corgi_zero]                                        1\n",
       "[JODYHiGHROLLER]                                    1\n",
       "[HistoryInPics]                                     1\n",
       "[sweetsundance]                                     1\n",
       "[imgur]                                             1\n",
       "[dog_rates, LoveYourMelon]                          1\n",
       "[ChinoChinako, dog_rates]                           1\n",
       "[NBCSports]                                         1\n",
       "[SkyWilliams]                                       1\n",
       "[Lin_Manuel]                                        1\n",
       "[shibbnbot]                                         1\n",
       "[rock_rates, dog_rates]                             1\n",
       "[Patreon, dog_rates]                                1\n",
       "[TODAYshow]                                         1\n",
       "[dog_rates, mdougherty20]                           1\n",
       "[ShopWeRateDogs]                                    1\n",
       "[TheEllenShow]                                      1\n",
       "[hownottodraw, dog_rates]                           1\n",
       "[jon_hill987, dog_rates]                            1\n",
       "[spaghemily]                                        1\n",
       "[helizabethmicha]                                   1\n",
       "Name: user_mentions, Length: 91, dtype: int64"
      ]
     },
     "execution_count": 63,
     "metadata": {},
     "output_type": "execute_result"
    }
   ],
   "source": [
    "#Check to see if user_mentions are parsed correctly\n",
    "df_tweet_archive_clean.user_mentions.value_counts()"
   ]
  },
  {
   "cell_type": "code",
   "execution_count": 64,
   "metadata": {},
   "outputs": [
    {
     "data": {
      "text/plain": [
       "photo           2870\n",
       "video             78\n",
       "animated_gif       6\n",
       "Name: type, dtype: int64"
      ]
     },
     "execution_count": 64,
     "metadata": {},
     "output_type": "execute_result"
    }
   ],
   "source": [
    "#check to see if the media in extended objects are parsed correctly\n",
    "df_tweet_archive_clean.type.value_counts()"
   ]
  },
  {
   "cell_type": "code",
   "execution_count": 65,
   "metadata": {},
   "outputs": [],
   "source": [
    "#Check if the tweet count matches with original data source count.\n",
    "assert df_tweet_archive_clean.tweet_id.nunique() == df_tweet_archive.tweet_id.nunique()"
   ]
  },
  {
   "cell_type": "code",
   "execution_count": 66,
   "metadata": {},
   "outputs": [],
   "source": [
    "# check if the tweet count in archive table matches with original source (tweet details dataframe) count\n",
    "assert df_tweet_archive_clean[~df_tweet_archive_clean.favorited.isnull()].tweet_id.nunique() == df_tweet_details.id.nunique()"
   ]
  },
  {
   "cell_type": "markdown",
   "metadata": {},
   "source": [
    "Final Tweet Information Dataframe, we can see the following.\n",
    "\n",
    "- All unnecessary columns have been removed including duplicate columns ('full_text' from tweet API details)\n",
    "- HashTags/User Mentions/Media Information have been extracted.\n",
    "- Missing tweet details (14 tweets missing from Tweet API details) have been found from the original twitter archive information.\n"
   ]
  },
  {
   "cell_type": "markdown",
   "metadata": {},
   "source": [
    "### Finally, let's clean Image Prediction Results."
   ]
  },
  {
   "cell_type": "markdown",
   "metadata": {},
   "source": [
    "#### Define"
   ]
  },
  {
   "cell_type": "markdown",
   "metadata": {},
   "source": [
    "* There are 3 Prediction Results in the dataframe. Select each prediction data in a separate dataframe, and rename the columns appropriately. i.e. p1 -> 'prediction_breed', p1_conf -> 'confidence_score', p1_dog -> 'is_dog' and so on. \n",
    "* Include a new variable called 'prediction_number' to identify whether its p1/p2/p3 result.\n",
    "* Combine each of the prediction group results into one single dataframe"
   ]
  },
  {
   "cell_type": "code",
   "execution_count": 67,
   "metadata": {},
   "outputs": [],
   "source": [
    "#Filtered the interseting the columns for p1\n",
    "df_image_prediction_p1_filtered = df_image_prediction_clean[['tweet_id', 'jpg_url', 'img_num', 'p1', 'p1_conf', 'p1_dog']].copy()\n",
    "#Assign the prediction number\n",
    "df_image_prediction_p1_filtered['prediction_number'] = 'p1'\n",
    "#rename column names with appropriate names\n",
    "df_image_prediction_p1_filtered.rename(index=str, columns={'p1': 'predicted_breed', 'p1_conf': 'confidence_score', 'p1_dog': 'is_dog'}, inplace=True)\n",
    "\n",
    "#Filtered the interseting the columns for p2\n",
    "df_image_prediction_p2_filtered = df_image_prediction_clean[['tweet_id', 'jpg_url', 'img_num', 'p2', 'p2_conf', 'p2_dog']].copy()\n",
    "#Assign the prediction number\n",
    "df_image_prediction_p2_filtered['prediction_number'] = 'p2'\n",
    "#rename column names with appropriate names\n",
    "df_image_prediction_p2_filtered.rename(index=str, columns={'p2': 'predicted_breed', 'p2_conf': 'confidence_score', 'p2_dog': 'is_dog'}, inplace=True)\n",
    "\n",
    "#Filtered the interseting the columns for p3\n",
    "df_image_prediction_p3_filtered = df_image_prediction_clean[['tweet_id', 'jpg_url', 'img_num', 'p3', 'p3_conf', 'p3_dog']].copy()\n",
    "#Assign the prediction number\n",
    "df_image_prediction_p3_filtered['prediction_number'] = 'p3'\n",
    "#rename column names with appropriate names\n",
    "df_image_prediction_p3_filtered.rename(index=str, columns={'p3': 'predicted_breed', 'p3_conf': 'confidence_score', 'p3_dog': 'is_dog'}, inplace=True)\n",
    "\n",
    "#concat all 3 predictions dataframes\n",
    "df_image_prediction_clean = pd.concat([df_image_prediction_p1_filtered, df_image_prediction_p2_filtered, df_image_prediction_p3_filtered], ignore_index=True, sort=False)"
   ]
  },
  {
   "cell_type": "markdown",
   "metadata": {},
   "source": [
    "#### Test"
   ]
  },
  {
   "cell_type": "code",
   "execution_count": 68,
   "metadata": {},
   "outputs": [
    {
     "name": "stdout",
     "output_type": "stream",
     "text": [
      "<class 'pandas.core.frame.DataFrame'>\n",
      "RangeIndex: 6225 entries, 0 to 6224\n",
      "Data columns (total 7 columns):\n",
      "tweet_id             6225 non-null int64\n",
      "jpg_url              6225 non-null object\n",
      "img_num              6225 non-null int64\n",
      "predicted_breed      6225 non-null object\n",
      "confidence_score     6225 non-null float64\n",
      "is_dog               6225 non-null bool\n",
      "prediction_number    6225 non-null object\n",
      "dtypes: bool(1), float64(1), int64(2), object(3)\n",
      "memory usage: 298.0+ KB\n"
     ]
    }
   ],
   "source": [
    "#Visual check to see if the column names are coming correctly.\n",
    "df_image_prediction_clean.info()"
   ]
  },
  {
   "cell_type": "code",
   "execution_count": 69,
   "metadata": {},
   "outputs": [],
   "source": [
    "#Make sure the count matches.\n",
    "assert df_image_prediction_clean.shape[0] == df_image_prediction.shape[0]*3"
   ]
  },
  {
   "cell_type": "markdown",
   "metadata": {},
   "source": [
    "<a id=\"store_clean_data\"> </a>\n",
    "\n",
    "### 3.0 Storing Cleaned Data.\n",
    "\n",
    "For this project, I have stored the data in Sqlite file 'twitter_archive_master.sqlite'"
   ]
  },
  {
   "cell_type": "code",
   "execution_count": 70,
   "metadata": {},
   "outputs": [],
   "source": [
    "#initialize SQLite connection\n",
    "sqlite_file_name = 'twitter_archive_master.sqlite'\n",
    "conn = sqlite3.connect(sqlite_file_name)"
   ]
  },
  {
   "cell_type": "code",
   "execution_count": 71,
   "metadata": {},
   "outputs": [],
   "source": [
    "#Convert Array Objects to String, so that it can be stored in Sqlite database.\n",
    "df_tweet_archive_clean.hashtags = df_tweet_archive_clean.hashtags.astype(str)\n",
    "df_tweet_archive_clean.user_mentions = df_tweet_archive_clean.user_mentions.astype(str)"
   ]
  },
  {
   "cell_type": "code",
   "execution_count": 72,
   "metadata": {},
   "outputs": [],
   "source": [
    "#Store the dataframes in sqlite file\n",
    "df_image_prediction_clean.to_sql('twitter_image_predictions', conn, if_exists='replace', index=False)\n",
    "df_tweet_archive_clean.to_sql('twitter_archive_details', conn, if_exists='replace', index=False)"
   ]
  },
  {
   "cell_type": "code",
   "execution_count": 73,
   "metadata": {},
   "outputs": [],
   "source": [
    "#Check if the twitter image prediction results are stored correctly\n",
    "df_image_prediction_clean = pd.read_sql_query(\"select * from twitter_image_predictions;\", conn)\n",
    "#Check if the twitter archive results are stored correctly\n",
    "df_tweet_archive_clean = pd.read_sql_query(\"select * from twitter_archive_details;\", conn)"
   ]
  },
  {
   "cell_type": "code",
   "execution_count": 74,
   "metadata": {},
   "outputs": [
    {
     "name": "stdout",
     "output_type": "stream",
     "text": [
      "<class 'pandas.core.frame.DataFrame'>\n",
      "RangeIndex: 3243 entries, 0 to 3242\n",
      "Data columns (total 21 columns):\n",
      "tweet_id              3243 non-null int64\n",
      "timestamp             3243 non-null object\n",
      "source                3243 non-null object\n",
      "text                  3243 non-null object\n",
      "expanded_urls         3184 non-null object\n",
      "rating_numerator      3240 non-null float64\n",
      "rating_denominator    3240 non-null float64\n",
      "name                  2218 non-null object\n",
      "dog_stage             573 non-null object\n",
      "favorite_count        3229 non-null float64\n",
      "favorited             3229 non-null float64\n",
      "lang                  3229 non-null object\n",
      "retweet_count         3229 non-null float64\n",
      "retweeted             3229 non-null float64\n",
      "hashtags              3243 non-null object\n",
      "user_mentions         3243 non-null object\n",
      "expanded_url          2954 non-null object\n",
      "media_id              2954 non-null object\n",
      "media_url_https       2954 non-null object\n",
      "type                  2954 non-null object\n",
      "img_num               2954 non-null float64\n",
      "dtypes: float64(7), int64(1), object(13)\n",
      "memory usage: 532.1+ KB\n"
     ]
    }
   ],
   "source": [
    "df_tweet_archive_clean.info()"
   ]
  },
  {
   "cell_type": "code",
   "execution_count": 75,
   "metadata": {},
   "outputs": [],
   "source": [
    "df_tweet_archive_clean.timestamp = pd.to_datetime(df_tweet_archive_clean.timestamp)"
   ]
  },
  {
   "cell_type": "code",
   "execution_count": 76,
   "metadata": {},
   "outputs": [
    {
     "name": "stdout",
     "output_type": "stream",
     "text": [
      "<class 'pandas.core.frame.DataFrame'>\n",
      "RangeIndex: 6225 entries, 0 to 6224\n",
      "Data columns (total 7 columns):\n",
      "tweet_id             6225 non-null int64\n",
      "jpg_url              6225 non-null object\n",
      "img_num              6225 non-null int64\n",
      "predicted_breed      6225 non-null object\n",
      "confidence_score     6225 non-null float64\n",
      "is_dog               6225 non-null int64\n",
      "prediction_number    6225 non-null object\n",
      "dtypes: float64(1), int64(3), object(3)\n",
      "memory usage: 340.5+ KB\n"
     ]
    }
   ],
   "source": [
    "df_image_prediction_clean.info()"
   ]
  },
  {
   "cell_type": "markdown",
   "metadata": {},
   "source": [
    "<a id=\"visualizing_data\"></a>\n",
    "\n",
    "### 4.0 Visualization"
   ]
  },
  {
   "cell_type": "markdown",
   "metadata": {},
   "source": [
    "#### Tweet Trend Analysis"
   ]
  },
  {
   "cell_type": "code",
   "execution_count": 77,
   "metadata": {},
   "outputs": [
    {
     "name": "stderr",
     "output_type": "stream",
     "text": [
      "C:\\Users\\Karthick\\Anaconda3\\envs\\my_env\\lib\\site-packages\\ipykernel\\__main__.py:8: SettingWithCopyWarning: \n",
      "A value is trying to be set on a copy of a slice from a DataFrame.\n",
      "Try using .loc[row_indexer,col_indexer] = value instead\n",
      "\n",
      "See the caveats in the documentation: http://pandas.pydata.org/pandas-docs/stable/indexing.html#indexing-view-versus-copy\n",
      "C:\\Users\\Karthick\\Anaconda3\\envs\\my_env\\lib\\site-packages\\ipykernel\\__main__.py:9: SettingWithCopyWarning: \n",
      "A value is trying to be set on a copy of a slice from a DataFrame.\n",
      "Try using .loc[row_indexer,col_indexer] = value instead\n",
      "\n",
      "See the caveats in the documentation: http://pandas.pydata.org/pandas-docs/stable/indexing.html#indexing-view-versus-copy\n",
      "C:\\Users\\Karthick\\Anaconda3\\envs\\my_env\\lib\\site-packages\\ipykernel\\__main__.py:10: SettingWithCopyWarning: \n",
      "A value is trying to be set on a copy of a slice from a DataFrame.\n",
      "Try using .loc[row_indexer,col_indexer] = value instead\n",
      "\n",
      "See the caveats in the documentation: http://pandas.pydata.org/pandas-docs/stable/indexing.html#indexing-view-versus-copy\n"
     ]
    },
    {
     "data": {
      "image/png": "[encoded data removed]",
      "text/plain": [
       "<Figure size 1440x216 with 1 Axes>"
      ]
     },
     "metadata": {},
     "output_type": "display_data"
    },
    {
     "data": {
      "image/png": "[encoded data removed]",
      "text/plain": [
       "<Figure size 360x360 with 1 Axes>"
      ]
     },
     "metadata": {},
     "output_type": "display_data"
    }
   ],
   "source": [
    "#Filter the necessary columns\n",
    "df_tweet_archive_date = df_tweet_archive_clean[['tweet_id', 'timestamp']].copy()\n",
    "\n",
    "#drop duplicates\n",
    "df_tweet_archive_date_no_dup = df_tweet_archive_date.drop_duplicates()\n",
    "\n",
    "#gather year, month, yearmonth information\n",
    "df_tweet_archive_date_no_dup['Year']= df_tweet_archive_date_no_dup['timestamp'].apply(lambda x: x.year)\n",
    "df_tweet_archive_date_no_dup['Month']= df_tweet_archive_date_no_dup['timestamp'].apply(lambda x: x.month)\n",
    "df_tweet_archive_date_no_dup['YearMonth'] = df_tweet_archive_date_no_dup['timestamp'].map(lambda x: 100*x.year + x.month)\n",
    "\n",
    "#get tweet count by group with 'Yearmonth'\n",
    "df_tweets_by_month =  df_tweet_archive_date_no_dup.groupby(['YearMonth', 'Year', 'Month']).count().reset_index()[['YearMonth', 'Year', 'Month', 'tweet_id']]\n",
    "df_tweets_by_month.rename(index=str, columns={'tweet_id':'tweet_count'}, inplace=True)\n",
    "df_tweets_by_month['YearMonth'] = df_tweets_by_month['YearMonth'].astype('str')\n",
    "\n",
    "#Plot the tweet count trend\n",
    "sns.set()\n",
    "f = plt.figure(figsize=(20,3))\n",
    "ax = f.add_subplot(1, 1, 1)\n",
    "sns.relplot(x=\"YearMonth\", y=\"tweet_count\", kind=\"line\", data=df_tweets_by_month, ax=ax);\n"
   ]
  },
  {
   "cell_type": "markdown",
   "metadata": {},
   "source": [
    "### Rating Insights"
   ]
  },
  {
   "cell_type": "code",
   "execution_count": 78,
   "metadata": {},
   "outputs": [
    {
     "data": {
      "text/plain": [
       "12.0    560\n",
       "11.0    467\n",
       "10.0    454\n",
       "13.0    352\n",
       "9.0     158\n",
       "8.0     101\n",
       "14.0     56\n",
       "7.0      54\n",
       "5.0      35\n",
       "6.0      32\n",
       "0.0      23\n",
       "3.0      19\n",
       "4.0      15\n",
       "2.0      11\n",
       "1.0       8\n",
       "20.0      5\n",
       "15.0      2\n",
       "17.0      1\n",
       "Name: rating_numerator, dtype: int64"
      ]
     },
     "execution_count": 78,
     "metadata": {},
     "output_type": "execute_result"
    },
    {
     "data": {
      "image/png": "[encoded data removed]",
      "text/plain": [
       "<Figure size 720x360 with 1 Axes>"
      ]
     },
     "metadata": {},
     "output_type": "display_data"
    }
   ],
   "source": [
    "#group tweetid, rating to remove duplicates\n",
    "df_rating_numerator_details =  df_tweet_archive_clean.groupby(['tweet_id', 'rating_numerator']).count() \\\n",
    "                        .reset_index()[['tweet_id', 'rating_numerator']]\n",
    "\n",
    "#Plot the histogram of rating scores\n",
    "plt.figure(figsize=(10,5))\n",
    "df_rating_numerator_details.rating_numerator.hist();\n",
    "df_rating_numerator_details.rating_numerator.value_counts()"
   ]
  },
  {
   "cell_type": "markdown",
   "metadata": {},
   "source": [
    "#### Tweet Source Insight"
   ]
  },
  {
   "cell_type": "code",
   "execution_count": 79,
   "metadata": {},
   "outputs": [
    {
     "data": {
      "image/png": "[encoded data removed]",
      "text/plain": [
       "<Figure size 720x720 with 1 Axes>"
      ]
     },
     "metadata": {},
     "output_type": "display_data"
    }
   ],
   "source": [
    "#plot the distributtion of Twitter Source\n",
    "plt.figure(figsize=(10,10))\n",
    "df_tweet_archive_clean.source.value_counts().plot(kind='pie', autopct='%.1f%%');"
   ]
  },
  {
   "cell_type": "markdown",
   "metadata": {},
   "source": [
    "#### Predictor Conflicts\n",
    "\n",
    "Let's Identify the conflicts between p1, p2, p3. i.e. Check if all the predictions are correctly, the image is a dog or not. Or if the p1, p2, p3 - some of them says its a dog or some says its not a dog "
   ]
  },
  {
   "cell_type": "code",
   "execution_count": 80,
   "metadata": {},
   "outputs": [],
   "source": [
    "df_pred_result = df_image_prediction_clean.groupby(['tweet_id', 'prediction_number']).sum() \\\n",
    "                        .reset_index()[['tweet_id', 'prediction_number', 'is_dog']]\n",
    "\n",
    "df_pred_result = df_pred_result.groupby(['tweet_id']).sum().reset_index()\n",
    "df_pred_overall_result = df_pred_result.is_dog.value_counts().reset_index()\n",
    "df_pred_overall_result.rename(index=str, columns={'index':'pred_combined'}, inplace=True)"
   ]
  },
  {
   "cell_type": "code",
   "execution_count": 81,
   "metadata": {},
   "outputs": [],
   "source": [
    "''' classifies whether the predictors are in conflict or non-conflict '''\n",
    "def classify_conflict(dataframe=None):\n",
    "    if dataframe['pred_combined'] == 3 or dataframe['pred_combined'] == 0:\n",
    "        return 'Non-Conflict'\n",
    "    else:\n",
    "        return 'Conflict'\n",
    "\n",
    "df_pred_overall_result['conflict_classification'] = df_pred_overall_result.apply(classify_conflict, axis=1)"
   ]
  },
  {
   "cell_type": "code",
   "execution_count": 82,
   "metadata": {},
   "outputs": [
    {
     "data": {
      "text/html": [
       "<div>\n",
       "<style scoped>\n",
       "    .dataframe tbody tr th:only-of-type {\n",
       "        vertical-align: middle;\n",
       "    }\n",
       "\n",
       "    .dataframe tbody tr th {\n",
       "        vertical-align: top;\n",
       "    }\n",
       "\n",
       "    .dataframe thead th {\n",
       "        text-align: right;\n",
       "    }\n",
       "</style>\n",
       "<table border=\"1\" class=\"dataframe\">\n",
       "  <thead>\n",
       "    <tr style=\"text-align: right;\">\n",
       "      <th></th>\n",
       "      <th>conflict_classification</th>\n",
       "      <th>count</th>\n",
       "    </tr>\n",
       "  </thead>\n",
       "  <tbody>\n",
       "    <tr>\n",
       "      <th>0</th>\n",
       "      <td>Conflict</td>\n",
       "      <td>508</td>\n",
       "    </tr>\n",
       "    <tr>\n",
       "      <th>1</th>\n",
       "      <td>Non-Conflict</td>\n",
       "      <td>1567</td>\n",
       "    </tr>\n",
       "  </tbody>\n",
       "</table>\n",
       "</div>"
      ],
      "text/plain": [
       "  conflict_classification  count\n",
       "0                Conflict    508\n",
       "1            Non-Conflict   1567"
      ]
     },
     "execution_count": 82,
     "metadata": {},
     "output_type": "execute_result"
    }
   ],
   "source": [
    "df_conflict_result = df_pred_overall_result.groupby(['conflict_classification']).sum() \\\n",
    "                        .reset_index()[['conflict_classification', 'is_dog']]\n",
    "df_conflict_result.rename(index=str, columns={'is_dog': 'count'})"
   ]
  },
  {
   "cell_type": "markdown",
   "metadata": {},
   "source": [
    "#### Top 3 favorite dog stages"
   ]
  },
  {
   "cell_type": "code",
   "execution_count": 83,
   "metadata": {},
   "outputs": [],
   "source": [
    "#Get top 3 favorite counts\n",
    "top_3_favorites = df_tweet_archive_clean.favorite_count.sort_values(ascending=False).head(3).reset_index()\n",
    "top_3_favorites.rename(index=str, columns={'index':'row_number'}, inplace=True)"
   ]
  },
  {
   "cell_type": "code",
   "execution_count": 84,
   "metadata": {},
   "outputs": [
    {
     "data": {
      "text/html": [
       "<div>\n",
       "<style scoped>\n",
       "    .dataframe tbody tr th:only-of-type {\n",
       "        vertical-align: middle;\n",
       "    }\n",
       "\n",
       "    .dataframe tbody tr th {\n",
       "        vertical-align: top;\n",
       "    }\n",
       "\n",
       "    .dataframe thead th {\n",
       "        text-align: right;\n",
       "    }\n",
       "</style>\n",
       "<table border=\"1\" class=\"dataframe\">\n",
       "  <thead>\n",
       "    <tr style=\"text-align: right;\">\n",
       "      <th></th>\n",
       "      <th>tweet_id</th>\n",
       "      <th>dog_stage</th>\n",
       "      <th>favorite_count_x</th>\n",
       "    </tr>\n",
       "  </thead>\n",
       "  <tbody>\n",
       "    <tr>\n",
       "      <th>0</th>\n",
       "      <td>744234799360020481</td>\n",
       "      <td>doggo</td>\n",
       "      <td>165032.0</td>\n",
       "    </tr>\n",
       "    <tr>\n",
       "      <th>1</th>\n",
       "      <td>822872901745569793</td>\n",
       "      <td>puppo</td>\n",
       "      <td>141106.0</td>\n",
       "    </tr>\n",
       "    <tr>\n",
       "      <th>2</th>\n",
       "      <td>807106840509214720</td>\n",
       "      <td>None</td>\n",
       "      <td>127731.0</td>\n",
       "    </tr>\n",
       "  </tbody>\n",
       "</table>\n",
       "</div>"
      ],
      "text/plain": [
       "             tweet_id dog_stage  favorite_count_x\n",
       "0  744234799360020481     doggo          165032.0\n",
       "1  822872901745569793     puppo          141106.0\n",
       "2  807106840509214720      None          127731.0"
      ]
     },
     "execution_count": 84,
     "metadata": {},
     "output_type": "execute_result"
    }
   ],
   "source": [
    "#get top 3 favorite count's tweet id and dog stage\n",
    "top_3_favorites.merge(df_tweet_archive_clean, how='inner', left_on='row_number', right_index=True)[['tweet_id','dog_stage', 'favorite_count_x']]"
   ]
  },
  {
   "cell_type": "code",
   "execution_count": 85,
   "metadata": {},
   "outputs": [],
   "source": [
    "from wordcloud import WordCloud, STOPWORDS\n",
    "import matplotlib.pyplot as plt\n",
    "\n",
    "text= df_image_prediction_clean[df_image_prediction_clean.is_dog == 1]['predicted_breed'].values\n",
    "text = np.append(text, df_tweet_archive_clean[~df_tweet_archive_clean.dog_stage.isnull()]['dog_stage'].values)"
   ]
  },
  {
   "cell_type": "code",
   "execution_count": 86,
   "metadata": {},
   "outputs": [
    {
     "data": {
      "image/png": "[encoded data removed]",
      "text/plain": [
       "<Figure size 1080x1080 with 1 Axes>"
      ]
     },
     "metadata": {},
     "output_type": "display_data"
    }
   ],
   "source": [
    "wordcloud = WordCloud(max_font_size=50, max_words=100, background_color=\"black\").generate(' '.join(text))\n",
    "plt.figure(figsize=(15,15))\n",
    "plt.imshow(wordcloud, interpolation=\"bilinear\")\n",
    "plt.axis(\"off\")\n",
    "plt.show()\n"
   ]
  },
  {
   "cell_type": "code",
   "execution_count": null,
   "metadata": {},
   "outputs": [],
   "source": []
  }
 ],
 "metadata": {
  "kernelspec": {
   "display_name": "Python [conda env:my_env]",
   "language": "python",
   "name": "conda-env-my_env-py"
  },
  "language_info": {
   "codemirror_mode": {
    "name": "ipython",
    "version": 3
   },
   "file_extension": ".py",
   "mimetype": "text/x-python",
   "name": "python",
   "nbconvert_exporter": "python",
   "pygments_lexer": "ipython3",
   "version": "3.7.0"
  }
 },
 "nbformat": 4,
 "nbformat_minor": 2
}
